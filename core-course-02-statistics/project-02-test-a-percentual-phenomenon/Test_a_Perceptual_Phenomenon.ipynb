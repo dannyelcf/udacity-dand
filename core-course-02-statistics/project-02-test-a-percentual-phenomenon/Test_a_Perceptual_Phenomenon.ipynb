{
 "cells": [
  {
   "cell_type": "markdown",
   "metadata": {},
   "source": [
    "# Test a Percentual Phenomenon Analysis"
   ]
  },
  {
   "cell_type": "markdown",
   "metadata": {},
   "source": [
    "## Background Information\n",
    "\n",
    "In a Stroop task, participants are presented with a list of words, with each word displayed in a color of ink. The participant’s task is to say out loud the color of the ink in which the word is printed. The task has two conditions: a congruent words condition, and an incongruent words condition. In the congruent words condition, the words being displayed are color words whose names match the colors in which they are printed: for example <span style=\"color:red\">RED</span>, <span style=\"color:blue\">BLUE</span>. In the incongruent words condition, the words displayed are color words whose names do not match the colors in which they are printed: for example <span style=\"color:green\">PURPLE</span>, <span style=\"color:purple\">ORANGE</span>. In each case, we measure the time it takes to name the ink colors in equally-sized lists. Each participant will go through and record a time from each condition."
   ]
  },
  {
   "cell_type": "markdown",
   "metadata": {},
   "source": [
    "## Questions For Investigation\n",
    "\n",
    "**Question 1**: What is our independent variable? What is our dependent variable?\n",
    "\n",
    "**Answer**: Our independent variable is **two conditions**: a congruent words condition and an incongruent words condition. And our dependent variable is the **amount of time** it takes to name the ink colors displayed."
   ]
  },
  {
   "cell_type": "markdown",
   "metadata": {},
   "source": [
    "**Question 2**: What is an appropriate set of hypotheses for this task? What kind of statistical test do you expect to perform? Justify your choices.\n",
    "\n",
    "**Answer**: As incongruent task tend to take longer and are more prone to errors than congruent task ([Wikipedia - Stroop Effect](https://en.wikipedia.org/wiki/Stroop_effect)), an appropriate set of hypotheses are: \n",
    "\n",
    "- There is no significant time difference between tasks or incongruent task take less time than congruent task. This is the **null hypothesis** ($H_{0}$) and it can be better written as: the mean time to name the ink colors in incongruent task ($\\mu_{i}$) is less than or equal to the mean time in congruent task ($\\mu_{i}$). Mathematically,\n",
    "\n",
    ">$H_{0}:\\mu_{i} \\leq \\mu_{c}$\n",
    "\n",
    "- There is significant time difference between task and incongruent task take longer than congruent task. This is the **alternative hypothesis** ($H_{A}$) and it can be better written as: the mean time to name the ink colors in incongruent task ($\\mu_{i}$) is greater than the mean time in congruent task ($\\mu_{c}$). Mathematically,\n",
    "\n",
    ">$H_{A}:\\mu_{i} > \\mu_{c}$\n",
    "\n",
    "Based on these hypotheses and in fact we have no information of population (e.g. mean ($\\mu$) and standard deviation ($\\sigma$)) but just data of small paired samples (less than 30), I will perform a **positive one-tailed t-test** over dependent samples (two conditions) at significance level ($\\alpha$) of .05. I will assume that the population distribution is normal. If the calculated t-score falls within critical region (blue highlighted area in the image below), I will reject the null hypothesis and accept the alternative hypothesis.\n",
    "\n",
    "![Image of positive one-tailed t-test](images/positive_one_tail_t_test.png)"
   ]
  },
  {
   "cell_type": "markdown",
   "metadata": {},
   "source": [
    "Now it’s your chance to try out the Stroop task for yourself. Go to [this link](https://faculty.washington.edu/chudler/java/ready.html), which has a Java-based applet for performing the Stroop task. Record the times that you received on the task (you do not need to submit your times to the site.) Now, download [this dataset](https://drive.google.com/file/d/0B9Yf01UaIbUgQXpYb2NhZ29yX1U/view) which contains results from a number of participants in the task. Each row of the dataset contains the performance for one participant, with the first number their results on the congruent task and the second number their performance on the incongruent task.\n",
    "\n",
    "**Question 3**: Report some descriptive statistics regarding this dataset. Include at least one measure of central tendency and at least one measure of variability.\n",
    "\n",
    "**Answer**: Analysing the Stroop dataset we can describe it with following table:\n",
    "\n",
    "![Image of descriptive statistics](images/descriptive_statistics.png)\n",
    "\n",
    "We can note that in the congruent task the mean ($\\bar{x}_{c} \\approx 14.05$) is very close to the median ($\\approx 14.35$). The same applies to incongruent task in which the mean ($\\bar{x}_{i} \\approx 22.02$) and the median ($\\approx 21.02$) are close to. This shows that most of the data are more contained and close to the median (central data). In other words, there is not very divergent data regarding the central data. But I found two incongruent tasks' data that slightly exceeded the upper limit of outlier ($\\approx 32.05$). I highlighted them in <span style=\"color:red\">red</span> in the table below. The following table shows the congruent tasks' data and incongruent tasks' data sorted and divided by quantiles.\n",
    "\n",
    "<img src=\"images/descriptive_statistics_quartiles.png\" width=\"38%\">\n",
    "\n",
    "If we remove the outliers, the incongruent tasks' data will change. The table below shows how the data will be.\n",
    "\n",
    "![Image of descriptive statistics](images/descriptive_statistics_without_outliers.png)\n",
    "\n",
    "We note that in the incongruent task the mean ($\\bar{x}_{i} \\approx 20.85$) has almost the same value of the median ($\\approx 20.82$) and the variability around the mean (standard deviation) reduces by almost half (from $S_{i} \\approx 4.80$ to $S_{i} \\approx 2.90$).\n",
    "\n",
    "The quartiles of incongruent task change too. The following table shows how they will be.\n",
    "\n",
    "<img src=\"images/descriptive_statistics_quartiles_without_outliers.png\" width=\"38%\">\n",
    "\n",
    "This shows how outliers impact on measure of central tendency and measure of variability."
   ]
  },
  {
   "cell_type": "markdown",
   "metadata": {},
   "source": [
    "**Question 4**: Provide one or two visualizations that show the distribution of the sample data. Write one or two sentences noting what you observe about the plot or plots.\n",
    "\n",
    "**Answer**: Quartiles are best represented by boxplot graph. The image bellow shows one with presence of two outliers in incongruent task.\n",
    "\n",
    "<img src=\"images/boxplot.png\" width=\"45%\">\n",
    "\n",
    "Disregarding the outliers we can see that the incongruent task's data value is more symmetrical and more contained in relation to median (solid green line) than congruent task's which has the most dispersed data from the third quartile $(Q_{3})$.\n",
    "\n",
    "Also, we can see the position of mean (dashed green line) in relation to median (solid green line). As I mentioned in the answer to question 3, both are very close even in the presence of outliers.\n",
    "\n",
    "In the histograms below, the frequency distributions of the dataset are plotted with nine (9) bins.\n",
    "\n",
    "<img src=\"images/histogram.png\" width=\"100%\">\n",
    "\n",
    "We can see that the the congruent task histogram tends to a positive skewed distribution, whereas the incongruent task histogram tends to a normal distribution (if we disregard the outliers). This reinforces what I mentioned at the boxplot: incongruent task's data value is more symmetrical and more contained and congruent task's has the most dispersed data from the third quartile $(Q_{3})$, which leads to a positive skewed distribution."
   ]
  },
  {
   "cell_type": "markdown",
   "metadata": {},
   "source": [
    "**Question 5**: Now, perform the statistical test and report your results. What is your confidence level and your critical statistic value? Do you reject the null hypothesis or fail to reject it? Come to a conclusion in terms of the experiment task. Did the results match up with your expectations?\n",
    "\n",
    ">**Note**: To answer this question, I did not remove the outliers. They are not incorrect data and I do not consider them very discrepant in relation to outlier upper limit ($\\approx 32.05$).\n",
    "\n",
    "**Answer**: I performed a positive one-tailed t-test over dependent samples (two conditions) of size ($n$) $24$ at significance level ($\\alpha$) of $.05$. Thus, we have $23$ degrees of freedom ($df$) and $1.714$ as critical value ($t_{critical}$).\n",
    "\n",
    ">$\\alpha = .05$\n",
    "\n",
    ">$n = 24$\n",
    "\n",
    ">$df = n - 1 = 24 - 1 = 23$\n",
    "\n",
    ">$t_{critical} = 1.714$\n",
    "\n",
    "I calculated the $t$ statistic and it value is $\\approx 8.02$.\n",
    "\n",
    ">$t(23) = 8.02, p < .0001, one\\mbox{-}tailed$\n",
    "\n",
    "Thus the $t$ is very greater than $t_{critical}$, therefore I will reject $H_{0}$ and accept $H_{A}$.\n",
    "\n",
    "Calculating the correlation between our dependend an independent variable ($r^2$), we realize that the time it takes to name the ink colors is explained by how the list of words are displayed in about $74\\%$ of cases. This is a strong correlation.\n",
    "\n",
    ">$r^2 = .74$ \n",
    "\n",
    "In short, this experiment match up with my expectations. I took the Stroop Effect test and I actually I made more mistakes and spent more time in the incongruent task."
   ]
  }
 ],
 "metadata": {
  "kernelspec": {
   "display_name": "Python [default]",
   "language": "python",
   "name": "python2"
  },
  "language_info": {
   "codemirror_mode": {
    "name": "ipython",
    "version": 2
   },
   "file_extension": ".py",
   "mimetype": "text/x-python",
   "name": "python",
   "nbconvert_exporter": "python",
   "pygments_lexer": "ipython2",
   "version": "2.7.14"
  }
 },
 "nbformat": 4,
 "nbformat_minor": 2
}
