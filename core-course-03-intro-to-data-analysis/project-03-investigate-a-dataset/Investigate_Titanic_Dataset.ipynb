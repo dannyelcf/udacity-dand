{
 "cells": [
  {
   "cell_type": "markdown",
   "metadata": {},
   "source": [
    "# Investigating Titanic Dataset"
   ]
  },
  {
   "cell_type": "markdown",
   "metadata": {},
   "source": [
    "This project aims to investigate **what factors made passengers of Titanic more likely to survive**. For that, it will be analysed the Titanic dataset provided by Udacity on this [link](https://d17h27t6h515a5.cloudfront.net/topher/2016/September/57e9a84c_titanic-data/titanic-data.csv).\n",
    "This dataset contains information about a sample of 891 passengers, including whether or not they survived the disaster. The idea is to analyze each sample information (dataset columns) and to evaluate which ones have stood out among the survivors."
   ]
  },
  {
   "cell_type": "markdown",
   "metadata": {},
   "source": [
    "## Global Settings\n",
    "\n",
    "The tools that will be used to support the analysis are NumPy arrays, Pandas series and dataframes and Matplotlib/Seaborn charts. To make this document more concise and focused on the analysis, I created a separate module called `helpers` containing some functions to help with statistical calculations and plotting using the Matplotlib library. \n",
    "\n",
    "The following are global settings, libraries imports and loading of dataset required for this project."
   ]
  },
  {
   "cell_type": "code",
   "execution_count": 1,
   "metadata": {},
   "outputs": [
    {
     "data": {
      "text/html": [
       "<div>\n",
       "<style>\n",
       "    .dataframe thead tr:only-child th {\n",
       "        text-align: right;\n",
       "    }\n",
       "\n",
       "    .dataframe thead th {\n",
       "        text-align: left;\n",
       "    }\n",
       "\n",
       "    .dataframe tbody tr th {\n",
       "        vertical-align: top;\n",
       "    }\n",
       "</style>\n",
       "<table border=\"1\" class=\"dataframe\">\n",
       "  <thead>\n",
       "    <tr style=\"text-align: right;\">\n",
       "      <th></th>\n",
       "      <th>PassengerId</th>\n",
       "      <th>Survived</th>\n",
       "      <th>Pclass</th>\n",
       "      <th>Name</th>\n",
       "      <th>Sex</th>\n",
       "      <th>Age</th>\n",
       "      <th>SibSp</th>\n",
       "      <th>Parch</th>\n",
       "      <th>Ticket</th>\n",
       "      <th>Fare</th>\n",
       "      <th>Cabin</th>\n",
       "      <th>Embarked</th>\n",
       "    </tr>\n",
       "  </thead>\n",
       "  <tbody>\n",
       "    <tr>\n",
       "      <th>0</th>\n",
       "      <td>1</td>\n",
       "      <td>0</td>\n",
       "      <td>3</td>\n",
       "      <td>Braund, Mr. Owen Harris</td>\n",
       "      <td>male</td>\n",
       "      <td>22.0</td>\n",
       "      <td>1</td>\n",
       "      <td>0</td>\n",
       "      <td>A/5 21171</td>\n",
       "      <td>7.2500</td>\n",
       "      <td>NaN</td>\n",
       "      <td>S</td>\n",
       "    </tr>\n",
       "    <tr>\n",
       "      <th>1</th>\n",
       "      <td>2</td>\n",
       "      <td>1</td>\n",
       "      <td>1</td>\n",
       "      <td>Cumings, Mrs. John Bradley (Florence Briggs Th...</td>\n",
       "      <td>female</td>\n",
       "      <td>38.0</td>\n",
       "      <td>1</td>\n",
       "      <td>0</td>\n",
       "      <td>PC 17599</td>\n",
       "      <td>71.2833</td>\n",
       "      <td>C85</td>\n",
       "      <td>C</td>\n",
       "    </tr>\n",
       "    <tr>\n",
       "      <th>2</th>\n",
       "      <td>3</td>\n",
       "      <td>1</td>\n",
       "      <td>3</td>\n",
       "      <td>Heikkinen, Miss. Laina</td>\n",
       "      <td>female</td>\n",
       "      <td>26.0</td>\n",
       "      <td>0</td>\n",
       "      <td>0</td>\n",
       "      <td>STON/O2. 3101282</td>\n",
       "      <td>7.9250</td>\n",
       "      <td>NaN</td>\n",
       "      <td>S</td>\n",
       "    </tr>\n",
       "    <tr>\n",
       "      <th>3</th>\n",
       "      <td>4</td>\n",
       "      <td>1</td>\n",
       "      <td>1</td>\n",
       "      <td>Futrelle, Mrs. Jacques Heath (Lily May Peel)</td>\n",
       "      <td>female</td>\n",
       "      <td>35.0</td>\n",
       "      <td>1</td>\n",
       "      <td>0</td>\n",
       "      <td>113803</td>\n",
       "      <td>53.1000</td>\n",
       "      <td>C123</td>\n",
       "      <td>S</td>\n",
       "    </tr>\n",
       "    <tr>\n",
       "      <th>4</th>\n",
       "      <td>5</td>\n",
       "      <td>0</td>\n",
       "      <td>3</td>\n",
       "      <td>Allen, Mr. William Henry</td>\n",
       "      <td>male</td>\n",
       "      <td>35.0</td>\n",
       "      <td>0</td>\n",
       "      <td>0</td>\n",
       "      <td>373450</td>\n",
       "      <td>8.0500</td>\n",
       "      <td>NaN</td>\n",
       "      <td>S</td>\n",
       "    </tr>\n",
       "  </tbody>\n",
       "</table>\n",
       "</div>"
      ],
      "text/plain": [
       "   PassengerId  Survived  Pclass  \\\n",
       "0            1         0       3   \n",
       "1            2         1       1   \n",
       "2            3         1       3   \n",
       "3            4         1       1   \n",
       "4            5         0       3   \n",
       "\n",
       "                                                Name     Sex   Age  SibSp  \\\n",
       "0                            Braund, Mr. Owen Harris    male  22.0      1   \n",
       "1  Cumings, Mrs. John Bradley (Florence Briggs Th...  female  38.0      1   \n",
       "2                             Heikkinen, Miss. Laina  female  26.0      0   \n",
       "3       Futrelle, Mrs. Jacques Heath (Lily May Peel)  female  35.0      1   \n",
       "4                           Allen, Mr. William Henry    male  35.0      0   \n",
       "\n",
       "   Parch            Ticket     Fare Cabin Embarked  \n",
       "0      0         A/5 21171   7.2500   NaN        S  \n",
       "1      0          PC 17599  71.2833   C85        C  \n",
       "2      0  STON/O2. 3101282   7.9250   NaN        S  \n",
       "3      0            113803  53.1000  C123        S  \n",
       "4      0            373450   8.0500   NaN        S  "
      ]
     },
     "execution_count": 1,
     "metadata": {},
     "output_type": "execute_result"
    }
   ],
   "source": [
    "# it sets up matplotlib to shows plots inline, do not in other window\n",
    "%matplotlib inline\n",
    "# it sets up better quality of image plot\n",
    "%config InlineBackend.figure_format = 'retina'\n",
    "\n",
    "import numpy as np\n",
    "import pandas as pd\n",
    "import seaborn as sns\n",
    "import helpers as hlp\n",
    "\n",
    "# it loads dataset to Pandas dataframe\n",
    "titanic_df = pd.read_csv(\"titanic-data.csv\") \n",
    "# it shows first 5 dataframe rows\n",
    "titanic_df.head() "
   ]
  },
  {
   "cell_type": "markdown",
   "metadata": {},
   "source": [
    "## Analysis Process (Step by Step)\n",
    "\n",
    "To begin the analysis of dataset, first, it is necessary to evaluate the amount of information available. The table below shows the percentage of missing values for each dataset column."
   ]
  },
  {
   "cell_type": "code",
   "execution_count": 2,
   "metadata": {},
   "outputs": [
    {
     "data": {
      "text/html": [
       "<div>\n",
       "<style>\n",
       "    .dataframe thead tr:only-child th {\n",
       "        text-align: right;\n",
       "    }\n",
       "\n",
       "    .dataframe thead th {\n",
       "        text-align: left;\n",
       "    }\n",
       "\n",
       "    .dataframe tbody tr th {\n",
       "        vertical-align: top;\n",
       "    }\n",
       "</style>\n",
       "<table border=\"1\" class=\"dataframe\">\n",
       "  <thead>\n",
       "    <tr style=\"text-align: right;\">\n",
       "      <th></th>\n",
       "      <th>PassengerId</th>\n",
       "      <th>Survived</th>\n",
       "      <th>Pclass</th>\n",
       "      <th>Name</th>\n",
       "      <th>Sex</th>\n",
       "      <th>Age</th>\n",
       "      <th>SibSp</th>\n",
       "      <th>Parch</th>\n",
       "      <th>Ticket</th>\n",
       "      <th>Fare</th>\n",
       "      <th>Cabin</th>\n",
       "      <th>Embarked</th>\n",
       "    </tr>\n",
       "  </thead>\n",
       "  <tbody>\n",
       "    <tr>\n",
       "      <th>Missing Values (%)</th>\n",
       "      <td>0.0</td>\n",
       "      <td>0.0</td>\n",
       "      <td>0.0</td>\n",
       "      <td>0.0</td>\n",
       "      <td>0.0</td>\n",
       "      <td>19.87</td>\n",
       "      <td>0.0</td>\n",
       "      <td>0.0</td>\n",
       "      <td>0.0</td>\n",
       "      <td>0.0</td>\n",
       "      <td>77.1</td>\n",
       "      <td>0.22</td>\n",
       "    </tr>\n",
       "  </tbody>\n",
       "</table>\n",
       "</div>"
      ],
      "text/plain": [
       "                    PassengerId  Survived  Pclass  Name  Sex    Age  SibSp  \\\n",
       "Missing Values (%)          0.0       0.0     0.0   0.0  0.0  19.87    0.0   \n",
       "\n",
       "                    Parch  Ticket  Fare  Cabin  Embarked  \n",
       "Missing Values (%)    0.0     0.0   0.0   77.1      0.22  "
      ]
     },
     "execution_count": 2,
     "metadata": {},
     "output_type": "execute_result"
    }
   ],
   "source": [
    "# it calcutates per column the amount of missing values\n",
    "hlp.missing_values(titanic_df)"
   ]
  },
  {
   "cell_type": "markdown",
   "metadata": {},
   "source": [
    "The percentage of missing values in the **Cabin** column (77%) is high. Therefore, it will be discarded from the analysis. The **Age** column has about 20% of missing values, but it will not be discarded. The remaining values will be analyzed. The same for **Embarked** column."
   ]
  },
  {
   "cell_type": "code",
   "execution_count": 3,
   "metadata": {},
   "outputs": [
    {
     "data": {
      "text/html": [
       "<div>\n",
       "<style>\n",
       "    .dataframe thead tr:only-child th {\n",
       "        text-align: right;\n",
       "    }\n",
       "\n",
       "    .dataframe thead th {\n",
       "        text-align: left;\n",
       "    }\n",
       "\n",
       "    .dataframe tbody tr th {\n",
       "        vertical-align: top;\n",
       "    }\n",
       "</style>\n",
       "<table border=\"1\" class=\"dataframe\">\n",
       "  <thead>\n",
       "    <tr style=\"text-align: right;\">\n",
       "      <th></th>\n",
       "      <th>PassengerId</th>\n",
       "      <th>Survived</th>\n",
       "      <th>Pclass</th>\n",
       "      <th>Name</th>\n",
       "      <th>Sex</th>\n",
       "      <th>Age</th>\n",
       "      <th>SibSp</th>\n",
       "      <th>Parch</th>\n",
       "      <th>Ticket</th>\n",
       "      <th>Fare</th>\n",
       "      <th>Embarked</th>\n",
       "    </tr>\n",
       "  </thead>\n",
       "  <tbody>\n",
       "    <tr>\n",
       "      <th>0</th>\n",
       "      <td>1</td>\n",
       "      <td>0</td>\n",
       "      <td>3</td>\n",
       "      <td>Braund, Mr. Owen Harris</td>\n",
       "      <td>male</td>\n",
       "      <td>22.0</td>\n",
       "      <td>1</td>\n",
       "      <td>0</td>\n",
       "      <td>A/5 21171</td>\n",
       "      <td>7.2500</td>\n",
       "      <td>S</td>\n",
       "    </tr>\n",
       "    <tr>\n",
       "      <th>1</th>\n",
       "      <td>2</td>\n",
       "      <td>1</td>\n",
       "      <td>1</td>\n",
       "      <td>Cumings, Mrs. John Bradley (Florence Briggs Th...</td>\n",
       "      <td>female</td>\n",
       "      <td>38.0</td>\n",
       "      <td>1</td>\n",
       "      <td>0</td>\n",
       "      <td>PC 17599</td>\n",
       "      <td>71.2833</td>\n",
       "      <td>C</td>\n",
       "    </tr>\n",
       "    <tr>\n",
       "      <th>2</th>\n",
       "      <td>3</td>\n",
       "      <td>1</td>\n",
       "      <td>3</td>\n",
       "      <td>Heikkinen, Miss. Laina</td>\n",
       "      <td>female</td>\n",
       "      <td>26.0</td>\n",
       "      <td>0</td>\n",
       "      <td>0</td>\n",
       "      <td>STON/O2. 3101282</td>\n",
       "      <td>7.9250</td>\n",
       "      <td>S</td>\n",
       "    </tr>\n",
       "    <tr>\n",
       "      <th>3</th>\n",
       "      <td>4</td>\n",
       "      <td>1</td>\n",
       "      <td>1</td>\n",
       "      <td>Futrelle, Mrs. Jacques Heath (Lily May Peel)</td>\n",
       "      <td>female</td>\n",
       "      <td>35.0</td>\n",
       "      <td>1</td>\n",
       "      <td>0</td>\n",
       "      <td>113803</td>\n",
       "      <td>53.1000</td>\n",
       "      <td>S</td>\n",
       "    </tr>\n",
       "    <tr>\n",
       "      <th>4</th>\n",
       "      <td>5</td>\n",
       "      <td>0</td>\n",
       "      <td>3</td>\n",
       "      <td>Allen, Mr. William Henry</td>\n",
       "      <td>male</td>\n",
       "      <td>35.0</td>\n",
       "      <td>0</td>\n",
       "      <td>0</td>\n",
       "      <td>373450</td>\n",
       "      <td>8.0500</td>\n",
       "      <td>S</td>\n",
       "    </tr>\n",
       "  </tbody>\n",
       "</table>\n",
       "</div>"
      ],
      "text/plain": [
       "   PassengerId  Survived  Pclass  \\\n",
       "0            1         0       3   \n",
       "1            2         1       1   \n",
       "2            3         1       3   \n",
       "3            4         1       1   \n",
       "4            5         0       3   \n",
       "\n",
       "                                                Name     Sex   Age  SibSp  \\\n",
       "0                            Braund, Mr. Owen Harris    male  22.0      1   \n",
       "1  Cumings, Mrs. John Bradley (Florence Briggs Th...  female  38.0      1   \n",
       "2                             Heikkinen, Miss. Laina  female  26.0      0   \n",
       "3       Futrelle, Mrs. Jacques Heath (Lily May Peel)  female  35.0      1   \n",
       "4                           Allen, Mr. William Henry    male  35.0      0   \n",
       "\n",
       "   Parch            Ticket     Fare Embarked  \n",
       "0      0         A/5 21171   7.2500        S  \n",
       "1      0          PC 17599  71.2833        C  \n",
       "2      0  STON/O2. 3101282   7.9250        S  \n",
       "3      0            113803  53.1000        S  \n",
       "4      0            373450   8.0500        S  "
      ]
     },
     "execution_count": 3,
     "metadata": {},
     "output_type": "execute_result"
    }
   ],
   "source": [
    "# it removes 'Cabin' column from dataframe\n",
    "titanic_df = titanic_df.drop('Cabin', axis='columns')\n",
    "# it shows first 5 dataframe rows\n",
    "titanic_df.head()"
   ]
  },
  {
   "cell_type": "markdown",
   "metadata": {},
   "source": [
    "The next step is the classification of information in each column (variable). Classification helps identify the best method for analysis. The analysis for a qualitative variable (nominal or ordinal) is different from the analysis of a quantitative variable (discrete or continuous).\n",
    "\n",
    "The first (unnamed) column is the index created by Pandas. The others columns are:\n",
    "* **PassengerId**: a sequential integer number that uniquely identifies a passenger. This column represents a <u>discrete quantitative variable</u>. For the analysis, this variable will not be considered an <u>independent variable</u>, but just a variable to axiliate in the aggregation functions.\n",
    "* **Survived**: informs if the passenger survived (1) or did not survive (0) the Titanic disaster. Although this column has numeric values, it represents a <u>nominal qualitative variable</u>. For the analysis, this variable will be considered the <u>dependent variable</u>.\n",
    "* **Pclass**: informs the socio-economic status (1: upper, 2: middle and 3: lower) of a passenger on the Titanic. As in the Survived column, although this column has numeric values, it represents a <u>ordinal qualitative variable</u>. For the analysis, this variable will be considered an <u>independent variable</u>. \n",
    "* **Name**:\tinforms the name of a passenger. It represents a <u>nominal qualitative variable</u>. For the analysis, this variable will not be considered.\n",
    "* **Sex**: informs the sex (male or female) of a passagenger. It represents a <u>nominal qualitative variable</u>. For the analysis, this variable will be considered an <u>independent variable</u>.\n",
    "* **Age**: informs the age of a passagenger. It is fractional if less than 1. If the age is estimated, is it in the form of xx.5. It represents a <u>continuous quantitative variable</u>. For the analysis, this variable will be considered an <u>independent variable</u>.\n",
    "* **SibSp**: informs the number of siblings (brother, sister, half-brother, brotherhood) and spouse (husband and wife) who have embarked with a passenger. It represents a <u>discrete quantitative variable</u>. For the analysis, this variable will be transformed in a <u>nominal quanlitative variable</u> called **Alone** along with **Parch** to indicate whether a passenger travelled alone or with family.\n",
    "* **Parch**: informs the number of parent (mother, father) and child (daughter, son, stepdaughter, stepson) who have embarked with a passenger. Some children travelled only with a nanny, therefore Parch column is 0 for them. It represents a <u>discrete quantitative variable</u>. For the analysis, this variable will be transformed in a <u>nominal quanlitative variable</u> called **Alone** along with **SibSp** to indicate whether a passenger travelled alone or with family.\n",
    "* **Ticket**: informs the ticket number used by passenger. The same ticket number can be used for more than one passenger, possibly indicating that the passengers traveled together or as a family. It represents a <u>nominal qualitative variable</u>. For the analysis, this variable will not be considered because the new variable **Alone** will already indicate whether the passenger traveled alone or not.\n",
    "* **Fare**: informs the passenger fare. It represents a <u>continuous quantitative variable</u>. For the analysis, this variable will not be considered because **Pclass** variable already indicate socio-economic status.\n",
    "* **Embarked**: informs the port (C: Cherbourg, Q: Queenstown, S: Southampton) where a passenger embarked. It represents a <u>nominal qualitative variable</u>. For the analysis, this variable will be considered the <u>independent variable</u>.\n",
    "\n",
    "The code below creates the **Alone** variable (column) as previously mentioned."
   ]
  },
  {
   "cell_type": "code",
   "execution_count": 4,
   "metadata": {},
   "outputs": [
    {
     "data": {
      "text/html": [
       "<div>\n",
       "<style>\n",
       "    .dataframe thead tr:only-child th {\n",
       "        text-align: right;\n",
       "    }\n",
       "\n",
       "    .dataframe thead th {\n",
       "        text-align: left;\n",
       "    }\n",
       "\n",
       "    .dataframe tbody tr th {\n",
       "        vertical-align: top;\n",
       "    }\n",
       "</style>\n",
       "<table border=\"1\" class=\"dataframe\">\n",
       "  <thead>\n",
       "    <tr style=\"text-align: right;\">\n",
       "      <th></th>\n",
       "      <th>PassengerId</th>\n",
       "      <th>Survived</th>\n",
       "      <th>Pclass</th>\n",
       "      <th>Name</th>\n",
       "      <th>Sex</th>\n",
       "      <th>Age</th>\n",
       "      <th>SibSp</th>\n",
       "      <th>Parch</th>\n",
       "      <th>Ticket</th>\n",
       "      <th>Fare</th>\n",
       "      <th>Embarked</th>\n",
       "      <th>Alone</th>\n",
       "    </tr>\n",
       "  </thead>\n",
       "  <tbody>\n",
       "    <tr>\n",
       "      <th>0</th>\n",
       "      <td>1</td>\n",
       "      <td>0</td>\n",
       "      <td>3</td>\n",
       "      <td>Braund, Mr. Owen Harris</td>\n",
       "      <td>male</td>\n",
       "      <td>22.0</td>\n",
       "      <td>1</td>\n",
       "      <td>0</td>\n",
       "      <td>A/5 21171</td>\n",
       "      <td>7.2500</td>\n",
       "      <td>S</td>\n",
       "      <td>No</td>\n",
       "    </tr>\n",
       "    <tr>\n",
       "      <th>1</th>\n",
       "      <td>2</td>\n",
       "      <td>1</td>\n",
       "      <td>1</td>\n",
       "      <td>Cumings, Mrs. John Bradley (Florence Briggs Th...</td>\n",
       "      <td>female</td>\n",
       "      <td>38.0</td>\n",
       "      <td>1</td>\n",
       "      <td>0</td>\n",
       "      <td>PC 17599</td>\n",
       "      <td>71.2833</td>\n",
       "      <td>C</td>\n",
       "      <td>No</td>\n",
       "    </tr>\n",
       "    <tr>\n",
       "      <th>2</th>\n",
       "      <td>3</td>\n",
       "      <td>1</td>\n",
       "      <td>3</td>\n",
       "      <td>Heikkinen, Miss. Laina</td>\n",
       "      <td>female</td>\n",
       "      <td>26.0</td>\n",
       "      <td>0</td>\n",
       "      <td>0</td>\n",
       "      <td>STON/O2. 3101282</td>\n",
       "      <td>7.9250</td>\n",
       "      <td>S</td>\n",
       "      <td>Yes</td>\n",
       "    </tr>\n",
       "    <tr>\n",
       "      <th>3</th>\n",
       "      <td>4</td>\n",
       "      <td>1</td>\n",
       "      <td>1</td>\n",
       "      <td>Futrelle, Mrs. Jacques Heath (Lily May Peel)</td>\n",
       "      <td>female</td>\n",
       "      <td>35.0</td>\n",
       "      <td>1</td>\n",
       "      <td>0</td>\n",
       "      <td>113803</td>\n",
       "      <td>53.1000</td>\n",
       "      <td>S</td>\n",
       "      <td>No</td>\n",
       "    </tr>\n",
       "    <tr>\n",
       "      <th>4</th>\n",
       "      <td>5</td>\n",
       "      <td>0</td>\n",
       "      <td>3</td>\n",
       "      <td>Allen, Mr. William Henry</td>\n",
       "      <td>male</td>\n",
       "      <td>35.0</td>\n",
       "      <td>0</td>\n",
       "      <td>0</td>\n",
       "      <td>373450</td>\n",
       "      <td>8.0500</td>\n",
       "      <td>S</td>\n",
       "      <td>Yes</td>\n",
       "    </tr>\n",
       "  </tbody>\n",
       "</table>\n",
       "</div>"
      ],
      "text/plain": [
       "   PassengerId  Survived  Pclass  \\\n",
       "0            1         0       3   \n",
       "1            2         1       1   \n",
       "2            3         1       3   \n",
       "3            4         1       1   \n",
       "4            5         0       3   \n",
       "\n",
       "                                                Name     Sex   Age  SibSp  \\\n",
       "0                            Braund, Mr. Owen Harris    male  22.0      1   \n",
       "1  Cumings, Mrs. John Bradley (Florence Briggs Th...  female  38.0      1   \n",
       "2                             Heikkinen, Miss. Laina  female  26.0      0   \n",
       "3       Futrelle, Mrs. Jacques Heath (Lily May Peel)  female  35.0      1   \n",
       "4                           Allen, Mr. William Henry    male  35.0      0   \n",
       "\n",
       "   Parch            Ticket     Fare Embarked Alone  \n",
       "0      0         A/5 21171   7.2500        S    No  \n",
       "1      0          PC 17599  71.2833        C    No  \n",
       "2      0  STON/O2. 3101282   7.9250        S   Yes  \n",
       "3      0            113803  53.1000        S    No  \n",
       "4      0            373450   8.0500        S   Yes  "
      ]
     },
     "execution_count": 4,
     "metadata": {},
     "output_type": "execute_result"
    }
   ],
   "source": [
    "# it sums columns 'SibSp' and 'Parch'\n",
    "sibsp_parch = titanic_df['SibSp'] + titanic_df['Parch']\n",
    "# it replaces '0' to 'Yes' and other values to 'No'\n",
    "alone_column = sibsp_parch.apply(lambda elem: 'Yes' if elem == 0 else 'No')\n",
    "# it add column 'Alone' to Titanic dataframe\n",
    "titanic_df['Alone'] = alone_column\n",
    "# it shows first 5 dataframe rows\n",
    "titanic_df.head()"
   ]
  },
  {
   "cell_type": "markdown",
   "metadata": {},
   "source": [
    "And the code below discards the columns that will not be considered in the analysis."
   ]
  },
  {
   "cell_type": "code",
   "execution_count": 5,
   "metadata": {},
   "outputs": [
    {
     "data": {
      "text/html": [
       "<div>\n",
       "<style>\n",
       "    .dataframe thead tr:only-child th {\n",
       "        text-align: right;\n",
       "    }\n",
       "\n",
       "    .dataframe thead th {\n",
       "        text-align: left;\n",
       "    }\n",
       "\n",
       "    .dataframe tbody tr th {\n",
       "        vertical-align: top;\n",
       "    }\n",
       "</style>\n",
       "<table border=\"1\" class=\"dataframe\">\n",
       "  <thead>\n",
       "    <tr style=\"text-align: right;\">\n",
       "      <th></th>\n",
       "      <th>PassengerId</th>\n",
       "      <th>Survived</th>\n",
       "      <th>Pclass</th>\n",
       "      <th>Sex</th>\n",
       "      <th>Age</th>\n",
       "      <th>Embarked</th>\n",
       "      <th>Alone</th>\n",
       "    </tr>\n",
       "  </thead>\n",
       "  <tbody>\n",
       "    <tr>\n",
       "      <th>0</th>\n",
       "      <td>1</td>\n",
       "      <td>0</td>\n",
       "      <td>3</td>\n",
       "      <td>male</td>\n",
       "      <td>22.0</td>\n",
       "      <td>S</td>\n",
       "      <td>No</td>\n",
       "    </tr>\n",
       "    <tr>\n",
       "      <th>1</th>\n",
       "      <td>2</td>\n",
       "      <td>1</td>\n",
       "      <td>1</td>\n",
       "      <td>female</td>\n",
       "      <td>38.0</td>\n",
       "      <td>C</td>\n",
       "      <td>No</td>\n",
       "    </tr>\n",
       "    <tr>\n",
       "      <th>2</th>\n",
       "      <td>3</td>\n",
       "      <td>1</td>\n",
       "      <td>3</td>\n",
       "      <td>female</td>\n",
       "      <td>26.0</td>\n",
       "      <td>S</td>\n",
       "      <td>Yes</td>\n",
       "    </tr>\n",
       "    <tr>\n",
       "      <th>3</th>\n",
       "      <td>4</td>\n",
       "      <td>1</td>\n",
       "      <td>1</td>\n",
       "      <td>female</td>\n",
       "      <td>35.0</td>\n",
       "      <td>S</td>\n",
       "      <td>No</td>\n",
       "    </tr>\n",
       "    <tr>\n",
       "      <th>4</th>\n",
       "      <td>5</td>\n",
       "      <td>0</td>\n",
       "      <td>3</td>\n",
       "      <td>male</td>\n",
       "      <td>35.0</td>\n",
       "      <td>S</td>\n",
       "      <td>Yes</td>\n",
       "    </tr>\n",
       "  </tbody>\n",
       "</table>\n",
       "</div>"
      ],
      "text/plain": [
       "   PassengerId  Survived  Pclass     Sex   Age Embarked Alone\n",
       "0            1         0       3    male  22.0        S    No\n",
       "1            2         1       1  female  38.0        C    No\n",
       "2            3         1       3  female  26.0        S   Yes\n",
       "3            4         1       1  female  35.0        S    No\n",
       "4            5         0       3    male  35.0        S   Yes"
      ]
     },
     "execution_count": 5,
     "metadata": {},
     "output_type": "execute_result"
    }
   ],
   "source": [
    "# it removes 'Name' column from dataframe\n",
    "titanic_df = titanic_df.drop('Name', axis='columns')\n",
    "# it removes 'Ticket' column from dataframe\n",
    "titanic_df = titanic_df.drop('Ticket', axis='columns')\n",
    "# it removes 'Fare' column from dataframe\n",
    "titanic_df = titanic_df.drop('Fare', axis='columns')\n",
    "# it removes 'SibSp' column from dataframe\n",
    "titanic_df = titanic_df.drop('SibSp', axis='columns')\n",
    "# it removes 'Parch' column from dataframe\n",
    "titanic_df = titanic_df.drop('Parch', axis='columns')\n",
    "# it shows first 5 dataframe rows\n",
    "titanic_df.head() "
   ]
  },
  {
   "cell_type": "markdown",
   "metadata": {},
   "source": [
    "For each qualitative column, their numerical values or abbreviations will be replaced by their respective names with the first letter capitalized to better presentation of results."
   ]
  },
  {
   "cell_type": "code",
   "execution_count": 6,
   "metadata": {},
   "outputs": [
    {
     "data": {
      "text/html": [
       "<div>\n",
       "<style>\n",
       "    .dataframe thead tr:only-child th {\n",
       "        text-align: right;\n",
       "    }\n",
       "\n",
       "    .dataframe thead th {\n",
       "        text-align: left;\n",
       "    }\n",
       "\n",
       "    .dataframe tbody tr th {\n",
       "        vertical-align: top;\n",
       "    }\n",
       "</style>\n",
       "<table border=\"1\" class=\"dataframe\">\n",
       "  <thead>\n",
       "    <tr style=\"text-align: right;\">\n",
       "      <th></th>\n",
       "      <th>PassengerId</th>\n",
       "      <th>Survived</th>\n",
       "      <th>Pclass</th>\n",
       "      <th>Sex</th>\n",
       "      <th>Age</th>\n",
       "      <th>Embarked</th>\n",
       "      <th>Alone</th>\n",
       "    </tr>\n",
       "  </thead>\n",
       "  <tbody>\n",
       "    <tr>\n",
       "      <th>0</th>\n",
       "      <td>1</td>\n",
       "      <td>No</td>\n",
       "      <td>Lower</td>\n",
       "      <td>Male</td>\n",
       "      <td>22.0</td>\n",
       "      <td>Southampton</td>\n",
       "      <td>No</td>\n",
       "    </tr>\n",
       "    <tr>\n",
       "      <th>1</th>\n",
       "      <td>2</td>\n",
       "      <td>Yes</td>\n",
       "      <td>Upper</td>\n",
       "      <td>Female</td>\n",
       "      <td>38.0</td>\n",
       "      <td>Cherbourg</td>\n",
       "      <td>No</td>\n",
       "    </tr>\n",
       "    <tr>\n",
       "      <th>2</th>\n",
       "      <td>3</td>\n",
       "      <td>Yes</td>\n",
       "      <td>Lower</td>\n",
       "      <td>Female</td>\n",
       "      <td>26.0</td>\n",
       "      <td>Southampton</td>\n",
       "      <td>Yes</td>\n",
       "    </tr>\n",
       "    <tr>\n",
       "      <th>3</th>\n",
       "      <td>4</td>\n",
       "      <td>Yes</td>\n",
       "      <td>Upper</td>\n",
       "      <td>Female</td>\n",
       "      <td>35.0</td>\n",
       "      <td>Southampton</td>\n",
       "      <td>No</td>\n",
       "    </tr>\n",
       "    <tr>\n",
       "      <th>4</th>\n",
       "      <td>5</td>\n",
       "      <td>No</td>\n",
       "      <td>Lower</td>\n",
       "      <td>Male</td>\n",
       "      <td>35.0</td>\n",
       "      <td>Southampton</td>\n",
       "      <td>Yes</td>\n",
       "    </tr>\n",
       "  </tbody>\n",
       "</table>\n",
       "</div>"
      ],
      "text/plain": [
       "   PassengerId Survived Pclass     Sex   Age     Embarked Alone\n",
       "0            1       No  Lower    Male  22.0  Southampton    No\n",
       "1            2      Yes  Upper  Female  38.0    Cherbourg    No\n",
       "2            3      Yes  Lower  Female  26.0  Southampton   Yes\n",
       "3            4      Yes  Upper  Female  35.0  Southampton    No\n",
       "4            5       No  Lower    Male  35.0  Southampton   Yes"
      ]
     },
     "execution_count": 6,
     "metadata": {},
     "output_type": "execute_result"
    }
   ],
   "source": [
    "# on 'Survived' column, it replaces '0' to 'No' and '1' to 'Yes'\n",
    "titanic_df['Survived'] = titanic_df['Survived'].map({0: 'No', 1: 'Yes'})\n",
    "# on 'Pclass' column, it replaces '1' to 'Upper' and '2' to 'Middle' and '3' to 'Lower'\n",
    "titanic_df['Pclass'] = titanic_df['Pclass'].map({1: 'Upper', 2: 'Middle', 3: 'Lower'})\n",
    "# on 'Sex' column, it replaces 'male' to 'Male' and 'female' to 'Female'\n",
    "titanic_df['Sex'] = titanic_df['Sex'].map({'male': 'Male', 'female': 'Female'})\n",
    "# on 'Embarked' column, it replaces 'C' to 'Cherbourg' and 'Q' to 'Queenstown' and 'S' to 'Southampton'\n",
    "titanic_df['Embarked'] = titanic_df['Embarked'].map({'C': 'Cherbourg', 'Q': 'Queenstown', 'S': 'Southampton'})\n",
    "# it shows first 5 dataframe rows\n",
    "titanic_df.head()"
   ]
  },
  {
   "cell_type": "markdown",
   "metadata": {},
   "source": [
    "Before to analyze the independent variables, let's look at the proportion of Titanic survivors in the data sample."
   ]
  },
  {
   "cell_type": "code",
   "execution_count": 7,
   "metadata": {},
   "outputs": [
    {
     "name": "stdout",
     "output_type": "stream",
     "text": [
      "\n",
      "The frequency of non-survivor and survivor passangers (overall): \n"
     ]
    },
    {
     "data": {
      "text/html": [
       "<div>\n",
       "<style>\n",
       "    .dataframe thead tr:only-child th {\n",
       "        text-align: right;\n",
       "    }\n",
       "\n",
       "    .dataframe thead th {\n",
       "        text-align: left;\n",
       "    }\n",
       "\n",
       "    .dataframe tbody tr th {\n",
       "        vertical-align: top;\n",
       "    }\n",
       "</style>\n",
       "<table border=\"1\" class=\"dataframe\">\n",
       "  <thead>\n",
       "    <tr style=\"text-align: right;\">\n",
       "      <th></th>\n",
       "      <th>PassengerId</th>\n",
       "    </tr>\n",
       "    <tr>\n",
       "      <th>Survived</th>\n",
       "      <th></th>\n",
       "    </tr>\n",
       "  </thead>\n",
       "  <tbody>\n",
       "    <tr>\n",
       "      <th>Yes</th>\n",
       "      <td>342</td>\n",
       "    </tr>\n",
       "    <tr>\n",
       "      <th>No</th>\n",
       "      <td>549</td>\n",
       "    </tr>\n",
       "    <tr>\n",
       "      <th>All</th>\n",
       "      <td>891</td>\n",
       "    </tr>\n",
       "  </tbody>\n",
       "</table>\n",
       "</div>"
      ],
      "text/plain": [
       "          PassengerId\n",
       "Survived             \n",
       "Yes               342\n",
       "No                549\n",
       "All               891"
      ]
     },
     "execution_count": 7,
     "metadata": {},
     "output_type": "execute_result"
    }
   ],
   "source": [
    "# It aggregates the 'Survived' column applying counting\n",
    "survived_df = hlp.group_survived(titanic_df, apply='count')\n",
    "\n",
    "print(\"\")\n",
    "print(\"The frequency of non-survivor and survivor passangers (overall): \")\n",
    "# it shows margin 'All' in index\n",
    "hlp.show_margin(survived_df, axis='columns')"
   ]
  },
  {
   "cell_type": "code",
   "execution_count": 8,
   "metadata": {},
   "outputs": [
    {
     "name": "stdout",
     "output_type": "stream",
     "text": [
      "\n",
      "The relative frequency (proportion) of non-survivor and survivor passangers (overall): \n"
     ]
    },
    {
     "data": {
      "text/html": [
       "<div>\n",
       "<style>\n",
       "    .dataframe thead tr:only-child th {\n",
       "        text-align: right;\n",
       "    }\n",
       "\n",
       "    .dataframe thead th {\n",
       "        text-align: left;\n",
       "    }\n",
       "\n",
       "    .dataframe tbody tr th {\n",
       "        vertical-align: top;\n",
       "    }\n",
       "</style>\n",
       "<table border=\"1\" class=\"dataframe\">\n",
       "  <thead>\n",
       "    <tr style=\"text-align: right;\">\n",
       "      <th></th>\n",
       "      <th>PassengerId</th>\n",
       "    </tr>\n",
       "    <tr>\n",
       "      <th>Survived</th>\n",
       "      <th></th>\n",
       "    </tr>\n",
       "  </thead>\n",
       "  <tbody>\n",
       "    <tr>\n",
       "      <th>Yes</th>\n",
       "      <td>0.383838</td>\n",
       "    </tr>\n",
       "    <tr>\n",
       "      <th>No</th>\n",
       "      <td>0.616162</td>\n",
       "    </tr>\n",
       "    <tr>\n",
       "      <th>All</th>\n",
       "      <td>1.000000</td>\n",
       "    </tr>\n",
       "  </tbody>\n",
       "</table>\n",
       "</div>"
      ],
      "text/plain": [
       "          PassengerId\n",
       "Survived             \n",
       "Yes          0.383838\n",
       "No           0.616162\n",
       "All          1.000000"
      ]
     },
     "execution_count": 8,
     "metadata": {},
     "output_type": "execute_result"
    }
   ],
   "source": [
    "# it calculates relative frequency (proportion) to 'PassengerId' column in relation to 'Survived' index\n",
    "survived_freq = hlp.frequency(survived_df, axis='index')\n",
    "\n",
    "print(\"\")\n",
    "print(\"The relative frequency (proportion) of non-survivor and survivor passangers (overall): \")\n",
    "# it shows margin 'All' in index\n",
    "hlp.show_margin(survived_freq, axis='columns')"
   ]
  },
  {
   "cell_type": "code",
   "execution_count": 9,
   "metadata": {},
   "outputs": [
    {
     "name": "stdout",
     "output_type": "stream",
     "text": [
      "\n",
      "Plotting the relative frequency (proportion) of non-survivor and survivor passangers (overall): \n"
     ]
    },
    {
     "data": {
      "image/png": "[encoded data removed]",
      "text/plain": [
       "<matplotlib.figure.Figure at 0x10e966e10>"
      ]
     },
     "metadata": {
      "image/png": {
       "height": 208,
       "width": 276
      }
     },
     "output_type": "display_data"
    }
   ],
   "source": [
    "print(\"\")\n",
    "print(\"Plotting the relative frequency (proportion) of non-survivor and survivor passangers (overall): \")\n",
    "# it plots a pie chart of relative frequencies (proportions)\n",
    "hlp.survived_plot_pie(survived_df)"
   ]
  },
  {
   "cell_type": "markdown",
   "metadata": {},
   "source": [
    "It can be noted that only 38.4% of sample of passengers survived the Titanic disaster.\n",
    "\n",
    "### Analyzing Qualitative Data\n",
    "\n",
    "From here, it will be statisticaly analyzed each independent variables in relation to dependent variable **Survived**. Let's start with qualitative independent variables: **Pclass**, **Sex**, **Embarked** and **Alone**.\n",
    "\n",
    "#### Is the socio-economic status (Pclass) a factor that made passengers of Titanic more likely to survive?\n",
    "\n",
    "To answer this question, first look at the proportion of Titanic survivors among socio-economic status (Pclass)."
   ]
  },
  {
   "cell_type": "code",
   "execution_count": 10,
   "metadata": {},
   "outputs": [
    {
     "name": "stdout",
     "output_type": "stream",
     "text": [
      "\n",
      "The frequency of non-survivor and survivor passangers among socio-economic status (Pclass):\n"
     ]
    },
    {
     "data": {
      "text/html": [
       "<div>\n",
       "<style>\n",
       "    .dataframe thead tr:only-child th {\n",
       "        text-align: right;\n",
       "    }\n",
       "\n",
       "    .dataframe thead th {\n",
       "        text-align: left;\n",
       "    }\n",
       "\n",
       "    .dataframe tbody tr th {\n",
       "        vertical-align: top;\n",
       "    }\n",
       "</style>\n",
       "<table border=\"1\" class=\"dataframe\">\n",
       "  <thead>\n",
       "    <tr style=\"text-align: right;\">\n",
       "      <th>Pclass</th>\n",
       "      <th>Lower</th>\n",
       "      <th>Middle</th>\n",
       "      <th>Upper</th>\n",
       "    </tr>\n",
       "    <tr>\n",
       "      <th>Survived</th>\n",
       "      <th></th>\n",
       "      <th></th>\n",
       "      <th></th>\n",
       "    </tr>\n",
       "  </thead>\n",
       "  <tbody>\n",
       "    <tr>\n",
       "      <th>Yes</th>\n",
       "      <td>119</td>\n",
       "      <td>87</td>\n",
       "      <td>136</td>\n",
       "    </tr>\n",
       "    <tr>\n",
       "      <th>No</th>\n",
       "      <td>372</td>\n",
       "      <td>97</td>\n",
       "      <td>80</td>\n",
       "    </tr>\n",
       "    <tr>\n",
       "      <th>All</th>\n",
       "      <td>491</td>\n",
       "      <td>184</td>\n",
       "      <td>216</td>\n",
       "    </tr>\n",
       "  </tbody>\n",
       "</table>\n",
       "</div>"
      ],
      "text/plain": [
       "Pclass    Lower  Middle  Upper\n",
       "Survived                      \n",
       "Yes         119      87    136\n",
       "No          372      97     80\n",
       "All         491     184    216"
      ]
     },
     "execution_count": 10,
     "metadata": {},
     "output_type": "execute_result"
    }
   ],
   "source": [
    "# It aggregates the 'Survived' and 'Pclass' columns applying counting on 'PassengerId'\n",
    "survived_pclass_df = hlp.group_survived(titanic_df, by='Pclass', apply='count')\n",
    "\n",
    "print(\"\")\n",
    "print(\"The frequency of non-survivor and survivor passangers among socio-economic status (Pclass):\")\n",
    "# it shows margin 'All' in index\n",
    "hlp.show_margin(survived_pclass_df, axis='columns')"
   ]
  },
  {
   "cell_type": "code",
   "execution_count": 11,
   "metadata": {},
   "outputs": [
    {
     "name": "stdout",
     "output_type": "stream",
     "text": [
      "\n",
      "The relative frequency (proportion) of non-survivor and survivor passangers among socio-economic status (Pclass):\n"
     ]
    },
    {
     "data": {
      "text/html": [
       "<div>\n",
       "<style>\n",
       "    .dataframe thead tr:only-child th {\n",
       "        text-align: right;\n",
       "    }\n",
       "\n",
       "    .dataframe thead th {\n",
       "        text-align: left;\n",
       "    }\n",
       "\n",
       "    .dataframe tbody tr th {\n",
       "        vertical-align: top;\n",
       "    }\n",
       "</style>\n",
       "<table border=\"1\" class=\"dataframe\">\n",
       "  <thead>\n",
       "    <tr style=\"text-align: right;\">\n",
       "      <th>Pclass</th>\n",
       "      <th>Lower</th>\n",
       "      <th>Middle</th>\n",
       "      <th>Upper</th>\n",
       "    </tr>\n",
       "    <tr>\n",
       "      <th>Survived</th>\n",
       "      <th></th>\n",
       "      <th></th>\n",
       "      <th></th>\n",
       "    </tr>\n",
       "  </thead>\n",
       "  <tbody>\n",
       "    <tr>\n",
       "      <th>Yes</th>\n",
       "      <td>0.242363</td>\n",
       "      <td>0.472826</td>\n",
       "      <td>0.62963</td>\n",
       "    </tr>\n",
       "    <tr>\n",
       "      <th>No</th>\n",
       "      <td>0.757637</td>\n",
       "      <td>0.527174</td>\n",
       "      <td>0.37037</td>\n",
       "    </tr>\n",
       "    <tr>\n",
       "      <th>All</th>\n",
       "      <td>1.000000</td>\n",
       "      <td>1.000000</td>\n",
       "      <td>1.00000</td>\n",
       "    </tr>\n",
       "  </tbody>\n",
       "</table>\n",
       "</div>"
      ],
      "text/plain": [
       "Pclass       Lower    Middle    Upper\n",
       "Survived                             \n",
       "Yes       0.242363  0.472826  0.62963\n",
       "No        0.757637  0.527174  0.37037\n",
       "All       1.000000  1.000000  1.00000"
      ]
     },
     "execution_count": 11,
     "metadata": {},
     "output_type": "execute_result"
    }
   ],
   "source": [
    "# it calculates relative frequency (proportion) to 'Pclass' columns in relation to 'Survived' index\n",
    "survived_pclass_freq = hlp.frequency(survived_pclass_df, axis='index')\n",
    "\n",
    "print(\"\")\n",
    "print(\"The relative frequency (proportion) of non-survivor and survivor passangers among socio-economic status (Pclass):\")\n",
    "# it shows margin 'All' in index\n",
    "hlp.show_margin(survived_pclass_freq, axis='columns')"
   ]
  },
  {
   "cell_type": "code",
   "execution_count": 12,
   "metadata": {
    "scrolled": true
   },
   "outputs": [
    {
     "name": "stdout",
     "output_type": "stream",
     "text": [
      "\n",
      "Plotting of the relative frequency (proportion) of non-survivor and survivor passangers among socio-economic status (Pclass):\n"
     ]
    },
    {
     "data": {
      "image/png": "[encoded data removed]",
      "text/plain": [
       "<matplotlib.figure.Figure at 0x11802fe90>"
      ]
     },
     "metadata": {
      "image/png": {
       "height": 195,
       "width": 498
      }
     },
     "output_type": "display_data"
    }
   ],
   "source": [
    "print(\"\")\n",
    "print(\"Plotting of the relative frequency (proportion) of non-survivor and survivor passangers \\\n",
    "among socio-economic status (Pclass):\")\n",
    "# it plots a stacked horizontal bar chart of relative frequencies (proportions)\n",
    "hlp.survivor_plot_bar(survived_pclass_freq)"
   ]
  },
  {
   "cell_type": "markdown",
   "metadata": {},
   "source": [
    "It can be note that upper socio-economic status (Pclass) made passengers of Titanic more likely to survive. About 63% of upper class passengers survived. **But is this likelyhood statiscally significant?** To answer this question it will be calculate **Chi Square** $({\\chi}^2)$ statistic value at .05 of significance. It will be used Chi Square statistic because both **Survived** and **Pclass** are <u>qualitative variables</u>.\n",
    "\n",
    "> ${\\chi}^2=\\sum \\frac{(Observed_{ij} \\, - \\, Expexted_{ij})^2}{Expexted_{ij}}$\n",
    "\n",
    "To calculate the ${\\chi}^2$, first it necessary calculate the expected values $(Expexted_{ij})$ from observed values $(Observed_{ij})$ for each **Pclass** $(i)$ in relation to **Survived** $(j)$.\n",
    "\n",
    "> $Expexted_{ij}=\\frac{Observed \\, Pclass \\, All_{i} \\, - \\, Observed \\, Survived \\, All_{j}}{All \\, All}$\n",
    "\n",
    "The table below shows the values required for the calculation."
   ]
  },
  {
   "cell_type": "code",
   "execution_count": 13,
   "metadata": {},
   "outputs": [
    {
     "name": "stdout",
     "output_type": "stream",
     "text": [
      "\n",
      "The frequency of non-survivor and survivor passangers among socio-economic status (Pclass):\n"
     ]
    },
    {
     "data": {
      "text/html": [
       "<div>\n",
       "<style>\n",
       "    .dataframe thead tr:only-child th {\n",
       "        text-align: right;\n",
       "    }\n",
       "\n",
       "    .dataframe thead th {\n",
       "        text-align: left;\n",
       "    }\n",
       "\n",
       "    .dataframe tbody tr th {\n",
       "        vertical-align: top;\n",
       "    }\n",
       "</style>\n",
       "<table border=\"1\" class=\"dataframe\">\n",
       "  <thead>\n",
       "    <tr style=\"text-align: right;\">\n",
       "      <th>Pclass</th>\n",
       "      <th>Lower</th>\n",
       "      <th>Middle</th>\n",
       "      <th>Upper</th>\n",
       "      <th>All</th>\n",
       "    </tr>\n",
       "    <tr>\n",
       "      <th>Survived</th>\n",
       "      <th></th>\n",
       "      <th></th>\n",
       "      <th></th>\n",
       "      <th></th>\n",
       "    </tr>\n",
       "  </thead>\n",
       "  <tbody>\n",
       "    <tr>\n",
       "      <th>Yes</th>\n",
       "      <td>119</td>\n",
       "      <td>87</td>\n",
       "      <td>136</td>\n",
       "      <td>342</td>\n",
       "    </tr>\n",
       "    <tr>\n",
       "      <th>No</th>\n",
       "      <td>372</td>\n",
       "      <td>97</td>\n",
       "      <td>80</td>\n",
       "      <td>549</td>\n",
       "    </tr>\n",
       "    <tr>\n",
       "      <th>All</th>\n",
       "      <td>491</td>\n",
       "      <td>184</td>\n",
       "      <td>216</td>\n",
       "      <td>891</td>\n",
       "    </tr>\n",
       "  </tbody>\n",
       "</table>\n",
       "</div>"
      ],
      "text/plain": [
       "Pclass    Lower  Middle  Upper  All\n",
       "Survived                           \n",
       "Yes         119      87    136  342\n",
       "No          372      97     80  549\n",
       "All         491     184    216  891"
      ]
     },
     "execution_count": 13,
     "metadata": {},
     "output_type": "execute_result"
    }
   ],
   "source": [
    "print(\"\")\n",
    "print(\"The frequency of non-survivor and survivor passangers among socio-economic status (Pclass):\")\n",
    "# it shows margin 'All' in index and columns\n",
    "hlp.show_margin(survived_pclass_df)"
   ]
  },
  {
   "cell_type": "markdown",
   "metadata": {},
   "source": [
    "And, the table below shows the results of the expected value calculation."
   ]
  },
  {
   "cell_type": "code",
   "execution_count": 14,
   "metadata": {},
   "outputs": [
    {
     "name": "stdout",
     "output_type": "stream",
     "text": [
      "\n",
      "Expected value for each 'Pclass' in relation to 'Survived':\n"
     ]
    },
    {
     "data": {
      "text/html": [
       "<div>\n",
       "<style>\n",
       "    .dataframe thead tr:only-child th {\n",
       "        text-align: right;\n",
       "    }\n",
       "\n",
       "    .dataframe thead th {\n",
       "        text-align: left;\n",
       "    }\n",
       "\n",
       "    .dataframe tbody tr th {\n",
       "        vertical-align: top;\n",
       "    }\n",
       "</style>\n",
       "<table border=\"1\" class=\"dataframe\">\n",
       "  <thead>\n",
       "    <tr style=\"text-align: right;\">\n",
       "      <th>Pclass</th>\n",
       "      <th>Lower</th>\n",
       "      <th>Middle</th>\n",
       "      <th>Upper</th>\n",
       "    </tr>\n",
       "    <tr>\n",
       "      <th>Survived</th>\n",
       "      <th></th>\n",
       "      <th></th>\n",
       "      <th></th>\n",
       "    </tr>\n",
       "  </thead>\n",
       "  <tbody>\n",
       "    <tr>\n",
       "      <th>Yes</th>\n",
       "      <td>188.464646</td>\n",
       "      <td>70.626263</td>\n",
       "      <td>82.909091</td>\n",
       "    </tr>\n",
       "    <tr>\n",
       "      <th>No</th>\n",
       "      <td>302.535354</td>\n",
       "      <td>113.373737</td>\n",
       "      <td>133.090909</td>\n",
       "    </tr>\n",
       "  </tbody>\n",
       "</table>\n",
       "</div>"
      ],
      "text/plain": [
       "Pclass         Lower      Middle       Upper\n",
       "Survived                                    \n",
       "Yes       188.464646   70.626263   82.909091\n",
       "No        302.535354  113.373737  133.090909"
      ]
     },
     "execution_count": 14,
     "metadata": {},
     "output_type": "execute_result"
    }
   ],
   "source": [
    "print(\"\")\n",
    "print(\"Expected value for each 'Pclass' in relation to 'Survived':\")\n",
    "# it calculates the expected value\n",
    "hlp.expected_value(survived_pclass_df)"
   ]
  },
  {
   "cell_type": "markdown",
   "metadata": {},
   "source": [
    "Now, it is calcutated the ${\\chi}^2$."
   ]
  },
  {
   "cell_type": "code",
   "execution_count": 15,
   "metadata": {},
   "outputs": [
    {
     "name": "stdout",
     "output_type": "stream",
     "text": [
      "\n",
      "Chi Square value for 'Pclass' and 'Survived':\n"
     ]
    },
    {
     "data": {
      "text/plain": [
       "102.88898875696059"
      ]
     },
     "execution_count": 15,
     "metadata": {},
     "output_type": "execute_result"
    }
   ],
   "source": [
    "print(\"\")\n",
    "print(\"Chi Square value for 'Pclass' and 'Survived':\")\n",
    "# it calculates the chi square value (observed value, expected value)\n",
    "hlp.chi_square(survived_pclass_df, hlp.expected_value(survived_pclass_df))"
   ]
  },
  {
   "cell_type": "markdown",
   "metadata": {},
   "source": [
    "> ${\\chi}^2 \\approx 102.89$\n",
    "\n",
    "Calculating the dregees of fredom it gives 2. (The 'All' row/index and 'All' column are not considered on the calculation of degrees of freedom.)\n",
    "\n",
    "> df = (number of rows - 1) (number of columns - 1)\n",
    "\n",
    "> df = (2 - 1) (3 - 1)\n",
    "\n",
    "> df = 2\n",
    "\n",
    "Consulting the ([chi-square distribution table](http://passel.unl.edu/Image/Namuth-CovertDeana956176274/chi-sqaure%20distribution%20table.PNG)) it has critical value with a significance of .05 equal to 5.99. Thus, as the value of ${\\chi}^2$ is greater than 5.99 then socio-economic status (Pclass) is statiscally significant at .05. **But how strong is correlation of Pclass and Survived variables?** To answer this question it will be calculated the **Cramér's V** association and the result will be compared with the table below.\n",
    "\n",
    "> ${\\phi_{c}}=\\sqrt{\\frac{{\\chi}^2}{n\\, \\times \\, min(number\\,of\\,rows\\,-\\,1,\\,number\\,of\\,columns\\,-\\,1)}}$\n",
    "\n",
    "\n",
    "|Degrees of Freedom|Small Effect|Medium Effect|Large Effect|\n",
    "|:----------------:|:----------:|:-----------:|:----------:|\n",
    "|1                 | 0.10       |0.30         |0.50        |\n",
    "|2                 | 0.07       |0.21         |0.35        |\n",
    "|3                 | 0.06       |0.17         |0.29        |\n"
   ]
  },
  {
   "cell_type": "code",
   "execution_count": 16,
   "metadata": {},
   "outputs": [
    {
     "name": "stdout",
     "output_type": "stream",
     "text": [
      "\n",
      "Cramér's V association for 'Pclass' and 'Survived':\n"
     ]
    },
    {
     "data": {
      "text/plain": [
       "0.3398173880053118"
      ]
     },
     "execution_count": 16,
     "metadata": {},
     "output_type": "execute_result"
    }
   ],
   "source": [
    "print(\"\")\n",
    "print(\"Cramér's V association for 'Pclass' and 'Survived':\")\n",
    "# it calculates the Cramér's V association\n",
    "hlp.cramersV(survived_pclass_df)"
   ]
  },
  {
   "cell_type": "markdown",
   "metadata": {},
   "source": [
    "It can be note that **Pclass** variable has a medium effect (but very closed to large effect) over **Survived** variable. Therefore, it can be concluded that the social-economic class is a factor that contributed in a medium way to the survival of some passengers of the Titanic shipwreck. And passengers on upper social-economic class had about 63% chances of surviving.\n",
    "\n",
    "#### Is the sex a factor that made passengers of Titanic more likely to survive?\n",
    "\n",
    "To answer this question, first look at the proportion of Titanic survivors between female and male."
   ]
  },
  {
   "cell_type": "code",
   "execution_count": 17,
   "metadata": {},
   "outputs": [
    {
     "name": "stdout",
     "output_type": "stream",
     "text": [
      "\n",
      "The frequency of non-survivor and survivor passangers between female and male:\n"
     ]
    },
    {
     "data": {
      "text/html": [
       "<div>\n",
       "<style>\n",
       "    .dataframe thead tr:only-child th {\n",
       "        text-align: right;\n",
       "    }\n",
       "\n",
       "    .dataframe thead th {\n",
       "        text-align: left;\n",
       "    }\n",
       "\n",
       "    .dataframe tbody tr th {\n",
       "        vertical-align: top;\n",
       "    }\n",
       "</style>\n",
       "<table border=\"1\" class=\"dataframe\">\n",
       "  <thead>\n",
       "    <tr style=\"text-align: right;\">\n",
       "      <th>Sex</th>\n",
       "      <th>Female</th>\n",
       "      <th>Male</th>\n",
       "    </tr>\n",
       "    <tr>\n",
       "      <th>Survived</th>\n",
       "      <th></th>\n",
       "      <th></th>\n",
       "    </tr>\n",
       "  </thead>\n",
       "  <tbody>\n",
       "    <tr>\n",
       "      <th>Yes</th>\n",
       "      <td>233</td>\n",
       "      <td>109</td>\n",
       "    </tr>\n",
       "    <tr>\n",
       "      <th>No</th>\n",
       "      <td>81</td>\n",
       "      <td>468</td>\n",
       "    </tr>\n",
       "    <tr>\n",
       "      <th>All</th>\n",
       "      <td>314</td>\n",
       "      <td>577</td>\n",
       "    </tr>\n",
       "  </tbody>\n",
       "</table>\n",
       "</div>"
      ],
      "text/plain": [
       "Sex       Female  Male\n",
       "Survived              \n",
       "Yes          233   109\n",
       "No            81   468\n",
       "All          314   577"
      ]
     },
     "execution_count": 17,
     "metadata": {},
     "output_type": "execute_result"
    }
   ],
   "source": [
    "# It aggregates the 'Survived' and 'Sex' columns applying counting on 'PassengerId'\n",
    "survived_sex_df = hlp.group_survived(titanic_df, by='Sex', apply='count')\n",
    "\n",
    "print(\"\")\n",
    "print(\"The frequency of non-survivor and survivor passangers between female and male:\")\n",
    "# it shows margin 'All' in index\n",
    "hlp.show_margin(survived_sex_df, axis='columns')"
   ]
  },
  {
   "cell_type": "code",
   "execution_count": 18,
   "metadata": {},
   "outputs": [
    {
     "name": "stdout",
     "output_type": "stream",
     "text": [
      "\n",
      "The relative frequency (proportion) of non-survivor and survivor passangers between female and male:\n"
     ]
    },
    {
     "data": {
      "text/html": [
       "<div>\n",
       "<style>\n",
       "    .dataframe thead tr:only-child th {\n",
       "        text-align: right;\n",
       "    }\n",
       "\n",
       "    .dataframe thead th {\n",
       "        text-align: left;\n",
       "    }\n",
       "\n",
       "    .dataframe tbody tr th {\n",
       "        vertical-align: top;\n",
       "    }\n",
       "</style>\n",
       "<table border=\"1\" class=\"dataframe\">\n",
       "  <thead>\n",
       "    <tr style=\"text-align: right;\">\n",
       "      <th>Sex</th>\n",
       "      <th>Female</th>\n",
       "      <th>Male</th>\n",
       "    </tr>\n",
       "    <tr>\n",
       "      <th>Survived</th>\n",
       "      <th></th>\n",
       "      <th></th>\n",
       "    </tr>\n",
       "  </thead>\n",
       "  <tbody>\n",
       "    <tr>\n",
       "      <th>Yes</th>\n",
       "      <td>0.742038</td>\n",
       "      <td>0.188908</td>\n",
       "    </tr>\n",
       "    <tr>\n",
       "      <th>No</th>\n",
       "      <td>0.257962</td>\n",
       "      <td>0.811092</td>\n",
       "    </tr>\n",
       "    <tr>\n",
       "      <th>All</th>\n",
       "      <td>1.000000</td>\n",
       "      <td>1.000000</td>\n",
       "    </tr>\n",
       "  </tbody>\n",
       "</table>\n",
       "</div>"
      ],
      "text/plain": [
       "Sex         Female      Male\n",
       "Survived                    \n",
       "Yes       0.742038  0.188908\n",
       "No        0.257962  0.811092\n",
       "All       1.000000  1.000000"
      ]
     },
     "execution_count": 18,
     "metadata": {},
     "output_type": "execute_result"
    }
   ],
   "source": [
    "# it calculates relative frequency (proportion) to 'Sex' columns in relation to 'Survived' index\n",
    "survived_sex_freq = hlp.frequency(survived_sex_df, axis='index')\n",
    "\n",
    "print(\"\")\n",
    "print(\"The relative frequency (proportion) of non-survivor and survivor passangers between female and male:\")\n",
    "# it shows margin 'All' in index\n",
    "hlp.show_margin(survived_sex_freq, axis='columns')"
   ]
  },
  {
   "cell_type": "code",
   "execution_count": 19,
   "metadata": {},
   "outputs": [
    {
     "name": "stdout",
     "output_type": "stream",
     "text": [
      "\n",
      "Plotting of the relative frequency (proportion) of non-survivor and survivor passangers between female and male:\n"
     ]
    },
    {
     "data": {
      "image/png": "[encoded data removed]",
      "text/plain": [
       "<matplotlib.figure.Figure at 0x11b3b0ad0>"
      ]
     },
     "metadata": {
      "image/png": {
       "height": 195,
       "width": 502
      }
     },
     "output_type": "display_data"
    }
   ],
   "source": [
    "print(\"\")\n",
    "print(\"Plotting of the relative frequency (proportion) of non-survivor and survivor passangers \\\n",
    "between female and male:\")\n",
    "# it plots a stacked horizontal bar chart of relative frequencies (proportions)\n",
    "hlp.survivor_plot_bar(survived_sex_freq)"
   ]
  },
  {
   "cell_type": "markdown",
   "metadata": {},
   "source": [
    "It can be note that female passengers of Titanic are more likely to survive. About 74% of female passengers survived. **But is this likelyhood statiscally significant?** To answer this question it will be calculate **Chi Square** $({\\chi}^2)$ statistic value at .05 of significance.\n",
    "\n",
    "> ${\\chi}^2=\\sum \\frac{(Observed_{ij} \\, - \\, Expexted_{ij})^2}{Expexted_{ij}}$\n",
    "\n",
    "To calculate the ${\\chi}^2$, first it necessary calculate the expected values $(Expexted_{ij})$ from observed values $(Observed_{ij})$ for each **Sex** $(i)$ in relation to **Survived** $(j)$.\n",
    "\n",
    "> $Expexted_{ij}=\\frac{Observed \\, Sex \\, All_{i} \\, - \\, Observed \\, Survived \\, All_{j}}{All \\, All}$\n",
    "\n",
    "The table below shows the values required for the calculation."
   ]
  },
  {
   "cell_type": "code",
   "execution_count": 20,
   "metadata": {},
   "outputs": [
    {
     "name": "stdout",
     "output_type": "stream",
     "text": [
      "\n",
      "The frequency of non-survivor and survivor passangers between female and male:\n"
     ]
    },
    {
     "data": {
      "text/html": [
       "<div>\n",
       "<style>\n",
       "    .dataframe thead tr:only-child th {\n",
       "        text-align: right;\n",
       "    }\n",
       "\n",
       "    .dataframe thead th {\n",
       "        text-align: left;\n",
       "    }\n",
       "\n",
       "    .dataframe tbody tr th {\n",
       "        vertical-align: top;\n",
       "    }\n",
       "</style>\n",
       "<table border=\"1\" class=\"dataframe\">\n",
       "  <thead>\n",
       "    <tr style=\"text-align: right;\">\n",
       "      <th>Sex</th>\n",
       "      <th>Female</th>\n",
       "      <th>Male</th>\n",
       "      <th>All</th>\n",
       "    </tr>\n",
       "    <tr>\n",
       "      <th>Survived</th>\n",
       "      <th></th>\n",
       "      <th></th>\n",
       "      <th></th>\n",
       "    </tr>\n",
       "  </thead>\n",
       "  <tbody>\n",
       "    <tr>\n",
       "      <th>Yes</th>\n",
       "      <td>233</td>\n",
       "      <td>109</td>\n",
       "      <td>342</td>\n",
       "    </tr>\n",
       "    <tr>\n",
       "      <th>No</th>\n",
       "      <td>81</td>\n",
       "      <td>468</td>\n",
       "      <td>549</td>\n",
       "    </tr>\n",
       "    <tr>\n",
       "      <th>All</th>\n",
       "      <td>314</td>\n",
       "      <td>577</td>\n",
       "      <td>891</td>\n",
       "    </tr>\n",
       "  </tbody>\n",
       "</table>\n",
       "</div>"
      ],
      "text/plain": [
       "Sex       Female  Male  All\n",
       "Survived                   \n",
       "Yes          233   109  342\n",
       "No            81   468  549\n",
       "All          314   577  891"
      ]
     },
     "execution_count": 20,
     "metadata": {},
     "output_type": "execute_result"
    }
   ],
   "source": [
    "print(\"\")\n",
    "print(\"The frequency of non-survivor and survivor passangers between female and male:\")\n",
    "# it shows margin 'All' in index and columns\n",
    "hlp.show_margin(survived_sex_df)"
   ]
  },
  {
   "cell_type": "markdown",
   "metadata": {},
   "source": [
    "And, the table below shows the results of the expected value calculation."
   ]
  },
  {
   "cell_type": "code",
   "execution_count": 21,
   "metadata": {},
   "outputs": [
    {
     "name": "stdout",
     "output_type": "stream",
     "text": [
      "\n",
      "Expected value for each 'Sex' in relation to 'Survived':\n"
     ]
    },
    {
     "data": {
      "text/html": [
       "<div>\n",
       "<style>\n",
       "    .dataframe thead tr:only-child th {\n",
       "        text-align: right;\n",
       "    }\n",
       "\n",
       "    .dataframe thead th {\n",
       "        text-align: left;\n",
       "    }\n",
       "\n",
       "    .dataframe tbody tr th {\n",
       "        vertical-align: top;\n",
       "    }\n",
       "</style>\n",
       "<table border=\"1\" class=\"dataframe\">\n",
       "  <thead>\n",
       "    <tr style=\"text-align: right;\">\n",
       "      <th>Sex</th>\n",
       "      <th>Female</th>\n",
       "      <th>Male</th>\n",
       "    </tr>\n",
       "    <tr>\n",
       "      <th>Survived</th>\n",
       "      <th></th>\n",
       "      <th></th>\n",
       "    </tr>\n",
       "  </thead>\n",
       "  <tbody>\n",
       "    <tr>\n",
       "      <th>Yes</th>\n",
       "      <td>120.525253</td>\n",
       "      <td>221.474747</td>\n",
       "    </tr>\n",
       "    <tr>\n",
       "      <th>No</th>\n",
       "      <td>193.474747</td>\n",
       "      <td>355.525253</td>\n",
       "    </tr>\n",
       "  </tbody>\n",
       "</table>\n",
       "</div>"
      ],
      "text/plain": [
       "Sex           Female        Male\n",
       "Survived                        \n",
       "Yes       120.525253  221.474747\n",
       "No        193.474747  355.525253"
      ]
     },
     "execution_count": 21,
     "metadata": {},
     "output_type": "execute_result"
    }
   ],
   "source": [
    "print(\"\")\n",
    "print(\"Expected value for each 'Sex' in relation to 'Survived':\")\n",
    "# it calculates the expected value\n",
    "hlp.expected_value(survived_sex_df)"
   ]
  },
  {
   "cell_type": "markdown",
   "metadata": {},
   "source": [
    "Now, it is calcutated the ${\\chi}^2$."
   ]
  },
  {
   "cell_type": "code",
   "execution_count": 22,
   "metadata": {},
   "outputs": [
    {
     "name": "stdout",
     "output_type": "stream",
     "text": [
      "\n",
      "Chi Square value for 'Sex' and 'Survived':\n"
     ]
    },
    {
     "data": {
      "text/plain": [
       "263.05057407065567"
      ]
     },
     "execution_count": 22,
     "metadata": {},
     "output_type": "execute_result"
    }
   ],
   "source": [
    "print(\"\")\n",
    "print(\"Chi Square value for 'Sex' and 'Survived':\")\n",
    "# it calculates the chi square value (observed value, expected value)\n",
    "hlp.chi_square(survived_sex_df, hlp.expected_value(survived_sex_df))"
   ]
  },
  {
   "cell_type": "markdown",
   "metadata": {},
   "source": [
    "> ${\\chi}^2 \\approx 263.05$\n",
    "\n",
    "Calculating the dregees of fredom it gives 1. (The 'All' row/index and 'All' column are not considered on the calculation of degrees of freedom.)\n",
    "\n",
    "> df = (number of rows - 1) (number of columns - 1)\n",
    "\n",
    "> df = (2 - 1) (2 - 1)\n",
    "\n",
    "> df = 1\n",
    "\n",
    "Consulting the ([chi-square distribution table](http://passel.unl.edu/Image/Namuth-CovertDeana956176274/chi-sqaure%20distribution%20table.PNG)) it has critical value with a significance of .05 equal to 3.89. Thus, as the value of ${\\chi}^2$ is greater than 3.84 then sex is statiscally significant at .05. **But how strong is correlation of Sex and Survived variables?** To answer this question it will be calculated the **Cramér's V** association and the result will be compared with the table below.\n",
    "\n",
    "> ${\\phi_{c}}=\\sqrt{\\frac{{\\chi}^2}{n\\, \\times \\, min(number\\,of\\,rows\\,-\\,1,\\,number\\,of\\,columns\\,-\\,1)}}$\n",
    "\n",
    "\n",
    "|Degrees of Freedom|Small Effect|Medium Effect|Large Effect|\n",
    "|:----------------:|:----------:|:-----------:|:----------:|\n",
    "|1                 | 0.10       |0.30         |0.50        |\n",
    "|2                 | 0.07       |0.21         |0.35        |\n",
    "|3                 | 0.06       |0.17         |0.29        |\n"
   ]
  },
  {
   "cell_type": "code",
   "execution_count": 23,
   "metadata": {},
   "outputs": [
    {
     "name": "stdout",
     "output_type": "stream",
     "text": [
      "\n",
      "Cramér's V association for 'Sex' and 'Survived':\n"
     ]
    },
    {
     "data": {
      "text/plain": [
       "0.54335138065775512"
      ]
     },
     "execution_count": 23,
     "metadata": {},
     "output_type": "execute_result"
    }
   ],
   "source": [
    "print(\"\")\n",
    "print(\"Cramér's V association for 'Sex' and 'Survived':\")\n",
    "# it calculates the Cramér's V association\n",
    "hlp.cramersV(survived_sex_df)"
   ]
  },
  {
   "cell_type": "markdown",
   "metadata": {},
   "source": [
    "It can be note that **Sex** variable has a large effect over **Survived** variable. Therefore, it can be concluded that the sex is a factor that contributed in a large way to the survival of some passengers of the Titanic shipwreck. And female passengers who had a 74% chance of surviving.\n",
    "\n",
    "#### Is the embarkment port a factor that made passengers of Titanic more likely to survive?\n",
    "\n",
    "To answer this question, first look at the proportion of Titanic survivors among the three embarkment ports."
   ]
  },
  {
   "cell_type": "code",
   "execution_count": 24,
   "metadata": {},
   "outputs": [
    {
     "name": "stdout",
     "output_type": "stream",
     "text": [
      "\n",
      "The frequency of non-survivor and survivor passangers among the embarkment ports:\n"
     ]
    },
    {
     "data": {
      "text/html": [
       "<div>\n",
       "<style>\n",
       "    .dataframe thead tr:only-child th {\n",
       "        text-align: right;\n",
       "    }\n",
       "\n",
       "    .dataframe thead th {\n",
       "        text-align: left;\n",
       "    }\n",
       "\n",
       "    .dataframe tbody tr th {\n",
       "        vertical-align: top;\n",
       "    }\n",
       "</style>\n",
       "<table border=\"1\" class=\"dataframe\">\n",
       "  <thead>\n",
       "    <tr style=\"text-align: right;\">\n",
       "      <th>Embarked</th>\n",
       "      <th>Cherbourg</th>\n",
       "      <th>Queenstown</th>\n",
       "      <th>Southampton</th>\n",
       "    </tr>\n",
       "    <tr>\n",
       "      <th>Survived</th>\n",
       "      <th></th>\n",
       "      <th></th>\n",
       "      <th></th>\n",
       "    </tr>\n",
       "  </thead>\n",
       "  <tbody>\n",
       "    <tr>\n",
       "      <th>Yes</th>\n",
       "      <td>93</td>\n",
       "      <td>30</td>\n",
       "      <td>217</td>\n",
       "    </tr>\n",
       "    <tr>\n",
       "      <th>No</th>\n",
       "      <td>75</td>\n",
       "      <td>47</td>\n",
       "      <td>427</td>\n",
       "    </tr>\n",
       "    <tr>\n",
       "      <th>All</th>\n",
       "      <td>168</td>\n",
       "      <td>77</td>\n",
       "      <td>644</td>\n",
       "    </tr>\n",
       "  </tbody>\n",
       "</table>\n",
       "</div>"
      ],
      "text/plain": [
       "Embarked  Cherbourg  Queenstown  Southampton\n",
       "Survived                                    \n",
       "Yes              93          30          217\n",
       "No               75          47          427\n",
       "All             168          77          644"
      ]
     },
     "execution_count": 24,
     "metadata": {},
     "output_type": "execute_result"
    }
   ],
   "source": [
    "# It aggregates the 'Survived' and 'Embarked' columns applying counting on 'PassengerId'\n",
    "survived_port_df = hlp.group_survived(titanic_df, by='Embarked', apply='count')\n",
    "\n",
    "print(\"\")\n",
    "print(\"The frequency of non-survivor and survivor passangers among the embarkment ports:\")\n",
    "# it shows margin 'All' in index\n",
    "hlp.show_margin(survived_port_df, axis='columns')"
   ]
  },
  {
   "cell_type": "code",
   "execution_count": 25,
   "metadata": {},
   "outputs": [
    {
     "name": "stdout",
     "output_type": "stream",
     "text": [
      "\n",
      "The relative frequency (proportion) of non-survivor and survivor passangers among the embarkment ports:\n"
     ]
    },
    {
     "data": {
      "text/html": [
       "<div>\n",
       "<style>\n",
       "    .dataframe thead tr:only-child th {\n",
       "        text-align: right;\n",
       "    }\n",
       "\n",
       "    .dataframe thead th {\n",
       "        text-align: left;\n",
       "    }\n",
       "\n",
       "    .dataframe tbody tr th {\n",
       "        vertical-align: top;\n",
       "    }\n",
       "</style>\n",
       "<table border=\"1\" class=\"dataframe\">\n",
       "  <thead>\n",
       "    <tr style=\"text-align: right;\">\n",
       "      <th>Embarked</th>\n",
       "      <th>Cherbourg</th>\n",
       "      <th>Queenstown</th>\n",
       "      <th>Southampton</th>\n",
       "    </tr>\n",
       "    <tr>\n",
       "      <th>Survived</th>\n",
       "      <th></th>\n",
       "      <th></th>\n",
       "      <th></th>\n",
       "    </tr>\n",
       "  </thead>\n",
       "  <tbody>\n",
       "    <tr>\n",
       "      <th>Yes</th>\n",
       "      <td>0.553571</td>\n",
       "      <td>0.38961</td>\n",
       "      <td>0.336957</td>\n",
       "    </tr>\n",
       "    <tr>\n",
       "      <th>No</th>\n",
       "      <td>0.446429</td>\n",
       "      <td>0.61039</td>\n",
       "      <td>0.663043</td>\n",
       "    </tr>\n",
       "    <tr>\n",
       "      <th>All</th>\n",
       "      <td>1.000000</td>\n",
       "      <td>1.00000</td>\n",
       "      <td>1.000000</td>\n",
       "    </tr>\n",
       "  </tbody>\n",
       "</table>\n",
       "</div>"
      ],
      "text/plain": [
       "Embarked  Cherbourg  Queenstown  Southampton\n",
       "Survived                                    \n",
       "Yes        0.553571     0.38961     0.336957\n",
       "No         0.446429     0.61039     0.663043\n",
       "All        1.000000     1.00000     1.000000"
      ]
     },
     "execution_count": 25,
     "metadata": {},
     "output_type": "execute_result"
    }
   ],
   "source": [
    "# it calculates relative frequency (proportion) to 'Embarked' columns in relation to 'Survived' index\n",
    "survived_port_freq = hlp.frequency(survived_port_df, axis='index')\n",
    "\n",
    "print(\"\")\n",
    "print(\"The relative frequency (proportion) of non-survivor and survivor passangers among the embarkment ports:\")\n",
    "# it shows margin 'All' in index\n",
    "hlp.show_margin(survived_port_freq, axis='columns')"
   ]
  },
  {
   "cell_type": "code",
   "execution_count": 26,
   "metadata": {},
   "outputs": [
    {
     "name": "stdout",
     "output_type": "stream",
     "text": [
      "\n",
      "Plotting of the relative frequency (proportion) of non-survivor and survivor passangers among the embarkment ports:\n"
     ]
    },
    {
     "data": {
      "image/png": "[encoded data removed]",
      "text/plain": [
       "<matplotlib.figure.Figure at 0x11b7135d0>"
      ]
     },
     "metadata": {
      "image/png": {
       "height": 195,
       "width": 533
      }
     },
     "output_type": "display_data"
    }
   ],
   "source": [
    "print(\"\")\n",
    "print(\"Plotting of the relative frequency (proportion) of non-survivor and survivor passangers \\\n",
    "among the embarkment ports:\")\n",
    "# it plots a stacked horizontal bar chart of relative frequencies (proportions)\n",
    "hlp.survivor_plot_bar(survived_port_freq)"
   ]
  },
  {
   "cell_type": "markdown",
   "metadata": {},
   "source": [
    "It can be note that passengers that embarked at Cherbourg port are more likely to survive. About 55% of passengers who embarked there survived. **But is this likelyhood statiscally significant?** To answer this question it will be calculate **Chi Square** $({\\chi}^2)$ statistic value at .05 of significance.\n",
    "\n",
    "> ${\\chi}^2=\\sum \\frac{(Observed_{ij} \\, - \\, Expexted_{ij})^2}{Expexted_{ij}}$\n",
    "\n",
    "To calculate the ${\\chi}^2$, first it necessary calculate the expected values $(Expexted_{ij})$ from observed values $(Observed_{ij})$ for each **Embarked** $(i)$ in relation to **Survived** $(j)$.\n",
    "\n",
    "> $Expexted_{ij}=\\frac{Observed \\, Embarked \\, All_{i} \\, - \\, Observed \\, Survived \\, All_{j}}{All \\, All}$\n",
    "\n",
    "The table below shows the values required for the calculation."
   ]
  },
  {
   "cell_type": "code",
   "execution_count": 27,
   "metadata": {},
   "outputs": [
    {
     "name": "stdout",
     "output_type": "stream",
     "text": [
      "\n",
      "The frequency of non-survivor and survivor passangers among the embarkment ports:\n"
     ]
    },
    {
     "data": {
      "text/html": [
       "<div>\n",
       "<style>\n",
       "    .dataframe thead tr:only-child th {\n",
       "        text-align: right;\n",
       "    }\n",
       "\n",
       "    .dataframe thead th {\n",
       "        text-align: left;\n",
       "    }\n",
       "\n",
       "    .dataframe tbody tr th {\n",
       "        vertical-align: top;\n",
       "    }\n",
       "</style>\n",
       "<table border=\"1\" class=\"dataframe\">\n",
       "  <thead>\n",
       "    <tr style=\"text-align: right;\">\n",
       "      <th>Embarked</th>\n",
       "      <th>Cherbourg</th>\n",
       "      <th>Queenstown</th>\n",
       "      <th>Southampton</th>\n",
       "      <th>All</th>\n",
       "    </tr>\n",
       "    <tr>\n",
       "      <th>Survived</th>\n",
       "      <th></th>\n",
       "      <th></th>\n",
       "      <th></th>\n",
       "      <th></th>\n",
       "    </tr>\n",
       "  </thead>\n",
       "  <tbody>\n",
       "    <tr>\n",
       "      <th>Yes</th>\n",
       "      <td>93</td>\n",
       "      <td>30</td>\n",
       "      <td>217</td>\n",
       "      <td>340</td>\n",
       "    </tr>\n",
       "    <tr>\n",
       "      <th>No</th>\n",
       "      <td>75</td>\n",
       "      <td>47</td>\n",
       "      <td>427</td>\n",
       "      <td>549</td>\n",
       "    </tr>\n",
       "    <tr>\n",
       "      <th>All</th>\n",
       "      <td>168</td>\n",
       "      <td>77</td>\n",
       "      <td>644</td>\n",
       "      <td>889</td>\n",
       "    </tr>\n",
       "  </tbody>\n",
       "</table>\n",
       "</div>"
      ],
      "text/plain": [
       "Embarked  Cherbourg  Queenstown  Southampton  All\n",
       "Survived                                         \n",
       "Yes              93          30          217  340\n",
       "No               75          47          427  549\n",
       "All             168          77          644  889"
      ]
     },
     "execution_count": 27,
     "metadata": {},
     "output_type": "execute_result"
    }
   ],
   "source": [
    "print(\"\")\n",
    "print(\"The frequency of non-survivor and survivor passangers among the embarkment ports:\")\n",
    "# it shows margin 'All' in index and columns\n",
    "hlp.show_margin(survived_port_df)"
   ]
  },
  {
   "cell_type": "markdown",
   "metadata": {},
   "source": [
    "And, the table below shows the results of the expected value calculation."
   ]
  },
  {
   "cell_type": "code",
   "execution_count": 28,
   "metadata": {},
   "outputs": [
    {
     "name": "stdout",
     "output_type": "stream",
     "text": [
      "\n",
      "Expected value for each 'Embarked' in relation to 'Survived':\n"
     ]
    },
    {
     "data": {
      "text/html": [
       "<div>\n",
       "<style>\n",
       "    .dataframe thead tr:only-child th {\n",
       "        text-align: right;\n",
       "    }\n",
       "\n",
       "    .dataframe thead th {\n",
       "        text-align: left;\n",
       "    }\n",
       "\n",
       "    .dataframe tbody tr th {\n",
       "        vertical-align: top;\n",
       "    }\n",
       "</style>\n",
       "<table border=\"1\" class=\"dataframe\">\n",
       "  <thead>\n",
       "    <tr style=\"text-align: right;\">\n",
       "      <th>Embarked</th>\n",
       "      <th>Cherbourg</th>\n",
       "      <th>Queenstown</th>\n",
       "      <th>Southampton</th>\n",
       "    </tr>\n",
       "    <tr>\n",
       "      <th>Survived</th>\n",
       "      <th></th>\n",
       "      <th></th>\n",
       "      <th></th>\n",
       "    </tr>\n",
       "  </thead>\n",
       "  <tbody>\n",
       "    <tr>\n",
       "      <th>Yes</th>\n",
       "      <td>64.251969</td>\n",
       "      <td>29.448819</td>\n",
       "      <td>246.299213</td>\n",
       "    </tr>\n",
       "    <tr>\n",
       "      <th>No</th>\n",
       "      <td>103.748031</td>\n",
       "      <td>47.551181</td>\n",
       "      <td>397.700787</td>\n",
       "    </tr>\n",
       "  </tbody>\n",
       "</table>\n",
       "</div>"
      ],
      "text/plain": [
       "Embarked   Cherbourg  Queenstown  Southampton\n",
       "Survived                                     \n",
       "Yes        64.251969   29.448819   246.299213\n",
       "No        103.748031   47.551181   397.700787"
      ]
     },
     "execution_count": 28,
     "metadata": {},
     "output_type": "execute_result"
    }
   ],
   "source": [
    "print(\"\")\n",
    "print(\"Expected value for each 'Embarked' in relation to 'Survived':\")\n",
    "# it calculates the expected value\n",
    "hlp.expected_value(survived_port_df)"
   ]
  },
  {
   "cell_type": "markdown",
   "metadata": {},
   "source": [
    "Now, it is calcutated the ${\\chi}^2$."
   ]
  },
  {
   "cell_type": "code",
   "execution_count": 29,
   "metadata": {},
   "outputs": [
    {
     "name": "stdout",
     "output_type": "stream",
     "text": [
      "\n",
      "Chi Square value for 'Embarked' and 'Survived':\n"
     ]
    },
    {
     "data": {
      "text/plain": [
       "26.489149839237619"
      ]
     },
     "execution_count": 29,
     "metadata": {},
     "output_type": "execute_result"
    }
   ],
   "source": [
    "print(\"\")\n",
    "print(\"Chi Square value for 'Embarked' and 'Survived':\")\n",
    "# it calculates the chi square value (observed value, expected value)\n",
    "hlp.chi_square(survived_port_df, hlp.expected_value(survived_port_df))"
   ]
  },
  {
   "cell_type": "markdown",
   "metadata": {},
   "source": [
    "> ${\\chi}^2 \\approx 26.49$\n",
    "\n",
    "Calculating the dregees of fredom it gives 2. (The 'All' row/index and 'All' column are not considered on the calculation of degrees of freedom.)\n",
    "\n",
    "> df = (number of rows - 1) (number of columns - 1)\n",
    "\n",
    "> df = (2 - 1) (3 - 1)\n",
    "\n",
    "> df = 2\n",
    "\n",
    "Consulting the ([chi-square distribution table](http://passel.unl.edu/Image/Namuth-CovertDeana956176274/chi-sqaure%20distribution%20table.PNG)) it has critical value with a significance of .05 equal to 5.99. Thus, as the value of ${\\chi}^2$ is greater than 5.99 then embarkment port (Embarked) is statiscally significant at .05. **But how strong is correlation of Embarked and Survived variables?** To answer this question it will be calculated the **Cramér's V** association and the result will be compared with the table below.\n",
    "\n",
    "> ${\\phi_{c}}=\\sqrt{\\frac{{\\chi}^2}{n\\, \\times \\, min(number\\,of\\,rows\\,-\\,1,\\,number\\,of\\,columns\\,-\\,1)}}$\n",
    "\n",
    "\n",
    "|Degrees of Freedom|Small Effect|Medium Effect|Large Effect|\n",
    "|:----------------:|:----------:|:-----------:|:----------:|\n",
    "|1                 | 0.10       |0.30         |0.50        |\n",
    "|2                 | 0.07       |0.21         |0.35        |\n",
    "|3                 | 0.06       |0.17         |0.29        |\n"
   ]
  },
  {
   "cell_type": "code",
   "execution_count": 30,
   "metadata": {},
   "outputs": [
    {
     "name": "stdout",
     "output_type": "stream",
     "text": [
      "\n",
      "Cramér's V association for 'Embarked' and 'Survived':\n"
     ]
    },
    {
     "data": {
      "text/plain": [
       "0.17261682709984438"
      ]
     },
     "execution_count": 30,
     "metadata": {},
     "output_type": "execute_result"
    }
   ],
   "source": [
    "print(\"\")\n",
    "print(\"Cramér's V association for 'Embarked' and 'Survived':\")\n",
    "# it calculates the Cramér's V association\n",
    "hlp.cramersV(survived_port_df)"
   ]
  },
  {
   "cell_type": "markdown",
   "metadata": {},
   "source": [
    "It can be note that **Embarked** variable has a small effect over **Survived** variable. Therefore, it can be concluded that the embarkment port is a factor that contributed in a small way to the survival of some passengers of the Titanic shipwreck. And the passengers who embarked at the port of Cherbourg had a 55% chance of surviving.\n",
    "\n",
    "#### Traveling alone or with family is a factor that made passengers of Titanic more likely to survive?\n",
    "\n",
    "To answer this question, first look at the proportion of Titanic survivors between who travelled alone and who travelled with family."
   ]
  },
  {
   "cell_type": "code",
   "execution_count": 31,
   "metadata": {},
   "outputs": [
    {
     "name": "stdout",
     "output_type": "stream",
     "text": [
      "\n",
      "The frequency of non-survivor and survivor passangers who travelled alone and with family:\n"
     ]
    },
    {
     "data": {
      "text/html": [
       "<div>\n",
       "<style>\n",
       "    .dataframe thead tr:only-child th {\n",
       "        text-align: right;\n",
       "    }\n",
       "\n",
       "    .dataframe thead th {\n",
       "        text-align: left;\n",
       "    }\n",
       "\n",
       "    .dataframe tbody tr th {\n",
       "        vertical-align: top;\n",
       "    }\n",
       "</style>\n",
       "<table border=\"1\" class=\"dataframe\">\n",
       "  <thead>\n",
       "    <tr style=\"text-align: right;\">\n",
       "      <th>Alone</th>\n",
       "      <th>No</th>\n",
       "      <th>Yes</th>\n",
       "    </tr>\n",
       "    <tr>\n",
       "      <th>Survived</th>\n",
       "      <th></th>\n",
       "      <th></th>\n",
       "    </tr>\n",
       "  </thead>\n",
       "  <tbody>\n",
       "    <tr>\n",
       "      <th>Yes</th>\n",
       "      <td>179</td>\n",
       "      <td>163</td>\n",
       "    </tr>\n",
       "    <tr>\n",
       "      <th>No</th>\n",
       "      <td>175</td>\n",
       "      <td>374</td>\n",
       "    </tr>\n",
       "    <tr>\n",
       "      <th>All</th>\n",
       "      <td>354</td>\n",
       "      <td>537</td>\n",
       "    </tr>\n",
       "  </tbody>\n",
       "</table>\n",
       "</div>"
      ],
      "text/plain": [
       "Alone      No  Yes\n",
       "Survived          \n",
       "Yes       179  163\n",
       "No        175  374\n",
       "All       354  537"
      ]
     },
     "execution_count": 31,
     "metadata": {},
     "output_type": "execute_result"
    }
   ],
   "source": [
    "# It aggregates the 'Survived' and 'Alone' columns applying counting on 'PassengerId'\n",
    "survived_alone_df = hlp.group_survived(titanic_df, by='Alone', apply='count')\n",
    "\n",
    "print(\"\")\n",
    "print(\"The frequency of non-survivor and survivor passangers who travelled alone and with family:\")\n",
    "# it shows margin 'All' in index\n",
    "hlp.show_margin(survived_alone_df, axis='columns')"
   ]
  },
  {
   "cell_type": "code",
   "execution_count": 32,
   "metadata": {},
   "outputs": [
    {
     "name": "stdout",
     "output_type": "stream",
     "text": [
      "\n",
      "The relative frequency (proportion) of non-survivor and survivor passangers who travelled alone and with family:\n"
     ]
    },
    {
     "data": {
      "text/html": [
       "<div>\n",
       "<style>\n",
       "    .dataframe thead tr:only-child th {\n",
       "        text-align: right;\n",
       "    }\n",
       "\n",
       "    .dataframe thead th {\n",
       "        text-align: left;\n",
       "    }\n",
       "\n",
       "    .dataframe tbody tr th {\n",
       "        vertical-align: top;\n",
       "    }\n",
       "</style>\n",
       "<table border=\"1\" class=\"dataframe\">\n",
       "  <thead>\n",
       "    <tr style=\"text-align: right;\">\n",
       "      <th>Alone</th>\n",
       "      <th>No</th>\n",
       "      <th>Yes</th>\n",
       "    </tr>\n",
       "    <tr>\n",
       "      <th>Survived</th>\n",
       "      <th></th>\n",
       "      <th></th>\n",
       "    </tr>\n",
       "  </thead>\n",
       "  <tbody>\n",
       "    <tr>\n",
       "      <th>Yes</th>\n",
       "      <td>0.50565</td>\n",
       "      <td>0.303538</td>\n",
       "    </tr>\n",
       "    <tr>\n",
       "      <th>No</th>\n",
       "      <td>0.49435</td>\n",
       "      <td>0.696462</td>\n",
       "    </tr>\n",
       "    <tr>\n",
       "      <th>All</th>\n",
       "      <td>1.00000</td>\n",
       "      <td>1.000000</td>\n",
       "    </tr>\n",
       "  </tbody>\n",
       "</table>\n",
       "</div>"
      ],
      "text/plain": [
       "Alone          No       Yes\n",
       "Survived                   \n",
       "Yes       0.50565  0.303538\n",
       "No        0.49435  0.696462\n",
       "All       1.00000  1.000000"
      ]
     },
     "execution_count": 32,
     "metadata": {},
     "output_type": "execute_result"
    }
   ],
   "source": [
    "# it calculates relative frequency (proportion) to 'Alone' columns in relation to 'Survived' index\n",
    "survived_alone_freq = hlp.frequency(survived_alone_df, axis='index')\n",
    "\n",
    "print(\"\")\n",
    "print(\"The relative frequency (proportion) of non-survivor and survivor passangers \\\n",
    "who travelled alone and with family:\")\n",
    "# it shows margin 'All' in index\n",
    "hlp.show_margin(survived_alone_freq, axis='columns')"
   ]
  },
  {
   "cell_type": "code",
   "execution_count": 33,
   "metadata": {},
   "outputs": [
    {
     "name": "stdout",
     "output_type": "stream",
     "text": [
      "\n",
      "Plotting of the relative frequency (proportion) of non-survivor and survivor passangers who travelled alone and with family:\n"
     ]
    },
    {
     "data": {
      "image/png": "[encoded data removed]",
      "text/plain": [
       "<matplotlib.figure.Figure at 0x11b9a7450>"
      ]
     },
     "metadata": {
      "image/png": {
       "height": 195,
       "width": 482
      }
     },
     "output_type": "display_data"
    }
   ],
   "source": [
    "print(\"\")\n",
    "print(\"Plotting of the relative frequency (proportion) of non-survivor and survivor passangers \\\n",
    "who travelled alone and with family:\")\n",
    "# it plots a stacked horizontal bar chart of relative frequencies (proportions)\n",
    "hlp.survivor_plot_bar(survived_alone_freq)"
   ]
  },
  {
   "cell_type": "markdown",
   "metadata": {},
   "source": [
    "It can be note that passengers who travelled with family are more likely to survive. About 50% of passengers who travelled with family survived. **But is this likelyhood statiscally significant?** To answer this question it will be calculate **Chi Square** $({\\chi}^2)$ statistic value at .05 of significance.\n",
    "\n",
    "> ${\\chi}^2=\\sum \\frac{(Observed_{ij} \\, - \\, Expexted_{ij})^2}{Expexted_{ij}}$\n",
    "\n",
    "To calculate the ${\\chi}^2$, first it necessary calculate the expected values $(Expexted_{ij})$ from observed values $(Observed_{ij})$ for each **Alone** $(i)$ in relation to **Survived** $(j)$.\n",
    "\n",
    "> $Expexted_{ij}=\\frac{Observed \\, Alone \\, All_{i} \\, - \\, Observed \\, Survived \\, All_{j}}{All \\, All}$\n",
    "\n",
    "The table below shows the values required for the calculation."
   ]
  },
  {
   "cell_type": "code",
   "execution_count": 34,
   "metadata": {},
   "outputs": [
    {
     "name": "stdout",
     "output_type": "stream",
     "text": [
      "\n",
      "The frequency of non-survivor and survivor passangers who travelled alone and with family:\n"
     ]
    },
    {
     "data": {
      "text/html": [
       "<div>\n",
       "<style>\n",
       "    .dataframe thead tr:only-child th {\n",
       "        text-align: right;\n",
       "    }\n",
       "\n",
       "    .dataframe thead th {\n",
       "        text-align: left;\n",
       "    }\n",
       "\n",
       "    .dataframe tbody tr th {\n",
       "        vertical-align: top;\n",
       "    }\n",
       "</style>\n",
       "<table border=\"1\" class=\"dataframe\">\n",
       "  <thead>\n",
       "    <tr style=\"text-align: right;\">\n",
       "      <th>Alone</th>\n",
       "      <th>No</th>\n",
       "      <th>Yes</th>\n",
       "      <th>All</th>\n",
       "    </tr>\n",
       "    <tr>\n",
       "      <th>Survived</th>\n",
       "      <th></th>\n",
       "      <th></th>\n",
       "      <th></th>\n",
       "    </tr>\n",
       "  </thead>\n",
       "  <tbody>\n",
       "    <tr>\n",
       "      <th>Yes</th>\n",
       "      <td>179</td>\n",
       "      <td>163</td>\n",
       "      <td>342</td>\n",
       "    </tr>\n",
       "    <tr>\n",
       "      <th>No</th>\n",
       "      <td>175</td>\n",
       "      <td>374</td>\n",
       "      <td>549</td>\n",
       "    </tr>\n",
       "    <tr>\n",
       "      <th>All</th>\n",
       "      <td>354</td>\n",
       "      <td>537</td>\n",
       "      <td>891</td>\n",
       "    </tr>\n",
       "  </tbody>\n",
       "</table>\n",
       "</div>"
      ],
      "text/plain": [
       "Alone      No  Yes  All\n",
       "Survived               \n",
       "Yes       179  163  342\n",
       "No        175  374  549\n",
       "All       354  537  891"
      ]
     },
     "execution_count": 34,
     "metadata": {},
     "output_type": "execute_result"
    }
   ],
   "source": [
    "print(\"\")\n",
    "print(\"The frequency of non-survivor and survivor passangers who travelled alone and with family:\")\n",
    "# it shows margin 'All' in index and columns\n",
    "hlp.show_margin(survived_alone_df)"
   ]
  },
  {
   "cell_type": "markdown",
   "metadata": {},
   "source": [
    "And, the table below shows the results of the expected value calculation."
   ]
  },
  {
   "cell_type": "code",
   "execution_count": 35,
   "metadata": {},
   "outputs": [
    {
     "name": "stdout",
     "output_type": "stream",
     "text": [
      "\n",
      "Expected value for between 'Alone' and 'Survived':\n"
     ]
    },
    {
     "data": {
      "text/html": [
       "<div>\n",
       "<style>\n",
       "    .dataframe thead tr:only-child th {\n",
       "        text-align: right;\n",
       "    }\n",
       "\n",
       "    .dataframe thead th {\n",
       "        text-align: left;\n",
       "    }\n",
       "\n",
       "    .dataframe tbody tr th {\n",
       "        vertical-align: top;\n",
       "    }\n",
       "</style>\n",
       "<table border=\"1\" class=\"dataframe\">\n",
       "  <thead>\n",
       "    <tr style=\"text-align: right;\">\n",
       "      <th>Alone</th>\n",
       "      <th>No</th>\n",
       "      <th>Yes</th>\n",
       "    </tr>\n",
       "    <tr>\n",
       "      <th>Survived</th>\n",
       "      <th></th>\n",
       "      <th></th>\n",
       "    </tr>\n",
       "  </thead>\n",
       "  <tbody>\n",
       "    <tr>\n",
       "      <th>Yes</th>\n",
       "      <td>135.878788</td>\n",
       "      <td>206.121212</td>\n",
       "    </tr>\n",
       "    <tr>\n",
       "      <th>No</th>\n",
       "      <td>218.121212</td>\n",
       "      <td>330.878788</td>\n",
       "    </tr>\n",
       "  </tbody>\n",
       "</table>\n",
       "</div>"
      ],
      "text/plain": [
       "Alone             No         Yes\n",
       "Survived                        \n",
       "Yes       135.878788  206.121212\n",
       "No        218.121212  330.878788"
      ]
     },
     "execution_count": 35,
     "metadata": {},
     "output_type": "execute_result"
    }
   ],
   "source": [
    "print(\"\")\n",
    "print(\"Expected value for between 'Alone' and 'Survived':\")\n",
    "# it calculates the expected value\n",
    "hlp.expected_value(survived_alone_df)"
   ]
  },
  {
   "cell_type": "markdown",
   "metadata": {},
   "source": [
    "Now, it is calcutated the ${\\chi}^2$."
   ]
  },
  {
   "cell_type": "code",
   "execution_count": 36,
   "metadata": {},
   "outputs": [
    {
     "name": "stdout",
     "output_type": "stream",
     "text": [
      "\n",
      "Chi Square value for 'Alone' and 'Survived':\n"
     ]
    },
    {
     "data": {
      "text/plain": [
       "36.85013084754587"
      ]
     },
     "execution_count": 36,
     "metadata": {},
     "output_type": "execute_result"
    }
   ],
   "source": [
    "print(\"\")\n",
    "print(\"Chi Square value for 'Alone' and 'Survived':\")\n",
    "# it calculates the chi square value (observed value, expected value)\n",
    "hlp.chi_square(survived_alone_df, hlp.expected_value(survived_alone_df))"
   ]
  },
  {
   "cell_type": "markdown",
   "metadata": {},
   "source": [
    "> ${\\chi}^2 \\approx 36.85$\n",
    "\n",
    "Calculating the dregees of fredom it gives 1. (The 'All' row/index and 'All' column are not considered on the calculation of degrees of freedom.)\n",
    "\n",
    "> df = (number of rows - 1) (number of columns - 1)\n",
    "\n",
    "> df = (2 - 1) (2 - 1)\n",
    "\n",
    "> df = 1\n",
    "\n",
    "Consulting the ([chi-square distribution table](http://passel.unl.edu/Image/Namuth-CovertDeana956176274/chi-sqaure%20distribution%20table.PNG)) it has critical value with a significance of .05 equal to 3.84. Thus, as the value of ${\\chi}^2$ is greater than 3.84 then traveling alone or with family is statiscally significant at .05. **But how strong is correlation of Alone and Survived variables?** To answer this question it will be calculated the **Cramér's V** association and the result will be compared with the table below.\n",
    "\n",
    "> ${\\phi_{c}}=\\sqrt{\\frac{{\\chi}^2}{n\\, \\times \\, min(number\\,of\\,rows\\,-\\,1,\\,number\\,of\\,columns\\,-\\,1)}}$\n",
    "\n",
    "\n",
    "|Degrees of Freedom|Small Effect|Medium Effect|Large Effect|\n",
    "|:----------------:|:----------:|:-----------:|:----------:|\n",
    "|1                 | 0.10       |0.30         |0.50        |\n",
    "|2                 | 0.07       |0.21         |0.35        |\n",
    "|3                 | 0.06       |0.17         |0.29        |\n"
   ]
  },
  {
   "cell_type": "code",
   "execution_count": 37,
   "metadata": {},
   "outputs": [
    {
     "name": "stdout",
     "output_type": "stream",
     "text": [
      "\n",
      "Cramér's V association for 'Alone' and 'Survived':\n"
     ]
    },
    {
     "data": {
      "text/plain": [
       "0.20336708569989195"
      ]
     },
     "execution_count": 37,
     "metadata": {},
     "output_type": "execute_result"
    }
   ],
   "source": [
    "print(\"\")\n",
    "print(\"Cramér's V association for 'Alone' and 'Survived':\")\n",
    "# it calculates the Cramér's V association\n",
    "hlp.cramersV(survived_alone_df)"
   ]
  },
  {
   "cell_type": "markdown",
   "metadata": {},
   "source": [
    "It can be note that **Alone** variable has a small effect over **Survived** variable. Therefore, it can be concluded that the traveling alone or with family is a factor that contributed in a small way to the survival of some passengers of the Titanic shipwreck. And the passengers who travelled with family had a 50% chance of surviving.\n",
    "\n",
    "### Analyzing Quantitative Data\n",
    "\n",
    "From here, it will be statisticaly analyzed the **Age** variable in relation to dependent variable **Survived**.\n",
    "\n",
    "#### Is the age a factor that made passengers of Titanic more likely to survive?\n",
    "\n",
    "To answer this question, first look at descritive statistic of **Age** data grouped by **Survived**."
   ]
  },
  {
   "cell_type": "code",
   "execution_count": 38,
   "metadata": {},
   "outputs": [
    {
     "data": {
      "text/html": [
       "<div>\n",
       "<style>\n",
       "    .dataframe thead tr:only-child th {\n",
       "        text-align: right;\n",
       "    }\n",
       "\n",
       "    .dataframe thead th {\n",
       "        text-align: left;\n",
       "    }\n",
       "\n",
       "    .dataframe tbody tr th {\n",
       "        vertical-align: top;\n",
       "    }\n",
       "</style>\n",
       "<table border=\"1\" class=\"dataframe\">\n",
       "  <thead>\n",
       "    <tr>\n",
       "      <th></th>\n",
       "      <th colspan=\"8\" halign=\"left\">Age</th>\n",
       "    </tr>\n",
       "    <tr>\n",
       "      <th></th>\n",
       "      <th>count</th>\n",
       "      <th>mean</th>\n",
       "      <th>std</th>\n",
       "      <th>min</th>\n",
       "      <th>25%</th>\n",
       "      <th>50%</th>\n",
       "      <th>75%</th>\n",
       "      <th>max</th>\n",
       "    </tr>\n",
       "    <tr>\n",
       "      <th>Survived</th>\n",
       "      <th></th>\n",
       "      <th></th>\n",
       "      <th></th>\n",
       "      <th></th>\n",
       "      <th></th>\n",
       "      <th></th>\n",
       "      <th></th>\n",
       "      <th></th>\n",
       "    </tr>\n",
       "  </thead>\n",
       "  <tbody>\n",
       "    <tr>\n",
       "      <th>Yes</th>\n",
       "      <td>290.0</td>\n",
       "      <td>28.343690</td>\n",
       "      <td>14.950952</td>\n",
       "      <td>0.42</td>\n",
       "      <td>19.0</td>\n",
       "      <td>28.0</td>\n",
       "      <td>36.0</td>\n",
       "      <td>80.0</td>\n",
       "    </tr>\n",
       "    <tr>\n",
       "      <th>No</th>\n",
       "      <td>424.0</td>\n",
       "      <td>30.626179</td>\n",
       "      <td>14.172110</td>\n",
       "      <td>1.00</td>\n",
       "      <td>21.0</td>\n",
       "      <td>28.0</td>\n",
       "      <td>39.0</td>\n",
       "      <td>74.0</td>\n",
       "    </tr>\n",
       "  </tbody>\n",
       "</table>\n",
       "</div>"
      ],
      "text/plain": [
       "            Age                                                    \n",
       "          count       mean        std   min   25%   50%   75%   max\n",
       "Survived                                                           \n",
       "Yes       290.0  28.343690  14.950952  0.42  19.0  28.0  36.0  80.0\n",
       "No        424.0  30.626179  14.172110  1.00  21.0  28.0  39.0  74.0"
      ]
     },
     "execution_count": 38,
     "metadata": {},
     "output_type": "execute_result"
    }
   ],
   "source": [
    "# It aggregates the 'Survived' column applying describe on 'Age'\n",
    "survived_age_df = hlp.group_survived(titanic_df, apply='describe', on='Age')\n",
    "\n",
    "survived_age_df"
   ]
  },
  {
   "cell_type": "markdown",
   "metadata": {},
   "source": [
    "It can be noted that with the exception of counting, mean and median (50%) the other measures have their values very close. This can be seeing in the boxplot below."
   ]
  },
  {
   "cell_type": "code",
   "execution_count": 39,
   "metadata": {},
   "outputs": [
    {
     "data": {
      "image/png": "[encoded data removed]",
      "text/plain": [
       "<matplotlib.figure.Figure at 0x11ba1f690>"
      ]
     },
     "metadata": {
      "image/png": {
       "height": 209,
       "width": 384
      }
     },
     "output_type": "display_data"
    }
   ],
   "source": [
    "hlp.survived_plot_box(titanic_df[['Survived', 'Age']])"
   ]
  },
  {
   "cell_type": "markdown",
   "metadata": {},
   "source": [
    "There is little variation between the group of sobrivents and the group of non-survivors. There is also little variation within the groups. At first, there seems to be no strong relationship between age and survival. But analyzing the histogram below can be noted that there is some variability between the age of the survivors and non survivors. "
   ]
  },
  {
   "cell_type": "code",
   "execution_count": 40,
   "metadata": {
    "scrolled": true
   },
   "outputs": [
    {
     "data": {
      "image/png": "[encoded data removed]",
      "text/plain": [
       "<matplotlib.figure.Figure at 0x11b9e9750>"
      ]
     },
     "metadata": {
      "image/png": {
       "height": 207,
       "width": 436
      }
     },
     "output_type": "display_data"
    }
   ],
   "source": [
    "hlp.survived_plot_hist(titanic_df[['Survived', 'Age']])"
   ]
  },
  {
   "cell_type": "markdown",
   "metadata": {},
   "source": [
    "**But is this variability statiscally significant?** To answer this question the discrete quantitative variable **Age** will be transformed in a ordinal qualitative variable. Thus, it will be calculated the **Chi Square** $({\\chi}^2)$ statistic value at .05 of significance.\n",
    "\n",
    "Firstly, it will be created a function that will map ages to age groups."
   ]
  },
  {
   "cell_type": "code",
   "execution_count": 41,
   "metadata": {
    "collapsed": true
   },
   "outputs": [],
   "source": [
    "def age_to_agegroup(age):\n",
    "    if age in range(0, 13):\n",
    "        return 'Child'\n",
    "    if age in range(13, 19):\n",
    "        return 'Teen'\n",
    "    if age in range(19, 31):\n",
    "        return 'Young'\n",
    "    if age in range(31, 51):\n",
    "        return 'Adult'\n",
    "    if age >= 51:\n",
    "        return 'Elder'"
   ]
  },
  {
   "cell_type": "markdown",
   "metadata": {},
   "source": [
    "Then, it will be created a new column called **AgeGroup** with the mapped values."
   ]
  },
  {
   "cell_type": "code",
   "execution_count": 42,
   "metadata": {},
   "outputs": [
    {
     "data": {
      "text/html": [
       "<div>\n",
       "<style>\n",
       "    .dataframe thead tr:only-child th {\n",
       "        text-align: right;\n",
       "    }\n",
       "\n",
       "    .dataframe thead th {\n",
       "        text-align: left;\n",
       "    }\n",
       "\n",
       "    .dataframe tbody tr th {\n",
       "        vertical-align: top;\n",
       "    }\n",
       "</style>\n",
       "<table border=\"1\" class=\"dataframe\">\n",
       "  <thead>\n",
       "    <tr style=\"text-align: right;\">\n",
       "      <th></th>\n",
       "      <th>PassengerId</th>\n",
       "      <th>Survived</th>\n",
       "      <th>Pclass</th>\n",
       "      <th>Sex</th>\n",
       "      <th>Age</th>\n",
       "      <th>Embarked</th>\n",
       "      <th>Alone</th>\n",
       "      <th>AgeGroup</th>\n",
       "    </tr>\n",
       "  </thead>\n",
       "  <tbody>\n",
       "    <tr>\n",
       "      <th>0</th>\n",
       "      <td>1</td>\n",
       "      <td>No</td>\n",
       "      <td>Lower</td>\n",
       "      <td>Male</td>\n",
       "      <td>22.0</td>\n",
       "      <td>Southampton</td>\n",
       "      <td>No</td>\n",
       "      <td>Young</td>\n",
       "    </tr>\n",
       "    <tr>\n",
       "      <th>1</th>\n",
       "      <td>2</td>\n",
       "      <td>Yes</td>\n",
       "      <td>Upper</td>\n",
       "      <td>Female</td>\n",
       "      <td>38.0</td>\n",
       "      <td>Cherbourg</td>\n",
       "      <td>No</td>\n",
       "      <td>Adult</td>\n",
       "    </tr>\n",
       "    <tr>\n",
       "      <th>2</th>\n",
       "      <td>3</td>\n",
       "      <td>Yes</td>\n",
       "      <td>Lower</td>\n",
       "      <td>Female</td>\n",
       "      <td>26.0</td>\n",
       "      <td>Southampton</td>\n",
       "      <td>Yes</td>\n",
       "      <td>Young</td>\n",
       "    </tr>\n",
       "    <tr>\n",
       "      <th>3</th>\n",
       "      <td>4</td>\n",
       "      <td>Yes</td>\n",
       "      <td>Upper</td>\n",
       "      <td>Female</td>\n",
       "      <td>35.0</td>\n",
       "      <td>Southampton</td>\n",
       "      <td>No</td>\n",
       "      <td>Adult</td>\n",
       "    </tr>\n",
       "    <tr>\n",
       "      <th>4</th>\n",
       "      <td>5</td>\n",
       "      <td>No</td>\n",
       "      <td>Lower</td>\n",
       "      <td>Male</td>\n",
       "      <td>35.0</td>\n",
       "      <td>Southampton</td>\n",
       "      <td>Yes</td>\n",
       "      <td>Adult</td>\n",
       "    </tr>\n",
       "  </tbody>\n",
       "</table>\n",
       "</div>"
      ],
      "text/plain": [
       "   PassengerId Survived Pclass     Sex   Age     Embarked Alone AgeGroup\n",
       "0            1       No  Lower    Male  22.0  Southampton    No    Young\n",
       "1            2      Yes  Upper  Female  38.0    Cherbourg    No    Adult\n",
       "2            3      Yes  Lower  Female  26.0  Southampton   Yes    Young\n",
       "3            4      Yes  Upper  Female  35.0  Southampton    No    Adult\n",
       "4            5       No  Lower    Male  35.0  Southampton   Yes    Adult"
      ]
     },
     "execution_count": 42,
     "metadata": {},
     "output_type": "execute_result"
    }
   ],
   "source": [
    "# it maps age to age group\n",
    "agegroup_column = titanic_df['Age'].apply(age_to_agegroup)\n",
    "# it add column 'AgeGroup' to Titanic dataframe\n",
    "titanic_df['AgeGroup'] = agegroup_column\n",
    "# it shows first 5 dataframe rows\n",
    "titanic_df.head()"
   ]
  },
  {
   "cell_type": "markdown",
   "metadata": {},
   "source": [
    "Now, it will be calculated the proportion of Titanic survivors among age groups."
   ]
  },
  {
   "cell_type": "code",
   "execution_count": 43,
   "metadata": {},
   "outputs": [
    {
     "name": "stdout",
     "output_type": "stream",
     "text": [
      "\n",
      "The frequency of non-survivor and survivor passangers among age groups:\n"
     ]
    },
    {
     "data": {
      "text/html": [
       "<div>\n",
       "<style>\n",
       "    .dataframe thead tr:only-child th {\n",
       "        text-align: right;\n",
       "    }\n",
       "\n",
       "    .dataframe thead th {\n",
       "        text-align: left;\n",
       "    }\n",
       "\n",
       "    .dataframe tbody tr th {\n",
       "        vertical-align: top;\n",
       "    }\n",
       "</style>\n",
       "<table border=\"1\" class=\"dataframe\">\n",
       "  <thead>\n",
       "    <tr style=\"text-align: right;\">\n",
       "      <th>AgeGroup</th>\n",
       "      <th>Child</th>\n",
       "      <th>Teen</th>\n",
       "      <th>Young</th>\n",
       "      <th>Adult</th>\n",
       "      <th>Elder</th>\n",
       "    </tr>\n",
       "    <tr>\n",
       "      <th>Survived</th>\n",
       "      <th></th>\n",
       "      <th></th>\n",
       "      <th></th>\n",
       "      <th></th>\n",
       "      <th></th>\n",
       "    </tr>\n",
       "  </thead>\n",
       "  <tbody>\n",
       "    <tr>\n",
       "      <th>Yes</th>\n",
       "      <td>33</td>\n",
       "      <td>30</td>\n",
       "      <td>96</td>\n",
       "      <td>101</td>\n",
       "      <td>22</td>\n",
       "    </tr>\n",
       "    <tr>\n",
       "      <th>No</th>\n",
       "      <td>29</td>\n",
       "      <td>39</td>\n",
       "      <td>169</td>\n",
       "      <td>130</td>\n",
       "      <td>42</td>\n",
       "    </tr>\n",
       "    <tr>\n",
       "      <th>All</th>\n",
       "      <td>62</td>\n",
       "      <td>69</td>\n",
       "      <td>265</td>\n",
       "      <td>231</td>\n",
       "      <td>64</td>\n",
       "    </tr>\n",
       "  </tbody>\n",
       "</table>\n",
       "</div>"
      ],
      "text/plain": [
       "AgeGroup  Child  Teen  Young  Adult  Elder\n",
       "Survived                                  \n",
       "Yes          33    30     96    101     22\n",
       "No           29    39    169    130     42\n",
       "All          62    69    265    231     64"
      ]
     },
     "execution_count": 43,
     "metadata": {},
     "output_type": "execute_result"
    }
   ],
   "source": [
    "# It aggregates the 'Survived' and 'AgeGroup' columns applying counting on 'PassengerId'\n",
    "survived_agegroup_df = hlp.group_survived(titanic_df, by='AgeGroup', apply='count')\n",
    "survived_agegroup_df = survived_agegroup_df.reindex(columns=['Child', 'Teen', 'Young', 'Adult', 'Elder'])\n",
    "\n",
    "print(\"\")\n",
    "print(\"The frequency of non-survivor and survivor passangers among age groups:\")\n",
    "# it shows margin 'All' in index\n",
    "hlp.show_margin(survived_agegroup_df, axis='columns')"
   ]
  },
  {
   "cell_type": "code",
   "execution_count": 44,
   "metadata": {},
   "outputs": [
    {
     "name": "stdout",
     "output_type": "stream",
     "text": [
      "\n",
      "The relative frequency (proportion) of non-survivor and survivor passangers among age groups:\n"
     ]
    },
    {
     "data": {
      "text/html": [
       "<div>\n",
       "<style>\n",
       "    .dataframe thead tr:only-child th {\n",
       "        text-align: right;\n",
       "    }\n",
       "\n",
       "    .dataframe thead th {\n",
       "        text-align: left;\n",
       "    }\n",
       "\n",
       "    .dataframe tbody tr th {\n",
       "        vertical-align: top;\n",
       "    }\n",
       "</style>\n",
       "<table border=\"1\" class=\"dataframe\">\n",
       "  <thead>\n",
       "    <tr style=\"text-align: right;\">\n",
       "      <th>AgeGroup</th>\n",
       "      <th>Child</th>\n",
       "      <th>Teen</th>\n",
       "      <th>Young</th>\n",
       "      <th>Adult</th>\n",
       "      <th>Elder</th>\n",
       "    </tr>\n",
       "    <tr>\n",
       "      <th>Survived</th>\n",
       "      <th></th>\n",
       "      <th></th>\n",
       "      <th></th>\n",
       "      <th></th>\n",
       "      <th></th>\n",
       "    </tr>\n",
       "  </thead>\n",
       "  <tbody>\n",
       "    <tr>\n",
       "      <th>Yes</th>\n",
       "      <td>0.532258</td>\n",
       "      <td>0.434783</td>\n",
       "      <td>0.362264</td>\n",
       "      <td>0.437229</td>\n",
       "      <td>0.34375</td>\n",
       "    </tr>\n",
       "    <tr>\n",
       "      <th>No</th>\n",
       "      <td>0.467742</td>\n",
       "      <td>0.565217</td>\n",
       "      <td>0.637736</td>\n",
       "      <td>0.562771</td>\n",
       "      <td>0.65625</td>\n",
       "    </tr>\n",
       "    <tr>\n",
       "      <th>All</th>\n",
       "      <td>1.000000</td>\n",
       "      <td>1.000000</td>\n",
       "      <td>1.000000</td>\n",
       "      <td>1.000000</td>\n",
       "      <td>1.00000</td>\n",
       "    </tr>\n",
       "  </tbody>\n",
       "</table>\n",
       "</div>"
      ],
      "text/plain": [
       "AgeGroup     Child      Teen     Young     Adult    Elder\n",
       "Survived                                                 \n",
       "Yes       0.532258  0.434783  0.362264  0.437229  0.34375\n",
       "No        0.467742  0.565217  0.637736  0.562771  0.65625\n",
       "All       1.000000  1.000000  1.000000  1.000000  1.00000"
      ]
     },
     "execution_count": 44,
     "metadata": {},
     "output_type": "execute_result"
    }
   ],
   "source": [
    "# it calculates relative frequency (proportion) to 'AgeGroup' columns in relation to 'Survived' index\n",
    "survived_agegroup_freq = hlp.frequency(survived_agegroup_df, axis='index')\n",
    "\n",
    "print(\"\")\n",
    "print(\"The relative frequency (proportion) of non-survivor and survivor passangers among age groups:\")\n",
    "# it shows margin 'All' in index\n",
    "hlp.show_margin(survived_agegroup_freq, axis='columns')"
   ]
  },
  {
   "cell_type": "code",
   "execution_count": 45,
   "metadata": {},
   "outputs": [
    {
     "name": "stdout",
     "output_type": "stream",
     "text": [
      "\n",
      "Plotting of the relative frequency (proportion) of non-survivor and survivor passangers among age groups:\n"
     ]
    },
    {
     "data": {
      "image/png": "[encoded data removed]",
      "text/plain": [
       "<matplotlib.figure.Figure at 0x1180d2c90>"
      ]
     },
     "metadata": {
      "image/png": {
       "height": 195,
       "width": 496
      }
     },
     "output_type": "display_data"
    }
   ],
   "source": [
    "print(\"\")\n",
    "print(\"Plotting of the relative frequency (proportion) of non-survivor and survivor passangers among age groups:\")\n",
    "# it plots a stacked horizontal bar chart of relative frequencies (proportions)\n",
    "hlp.survivor_plot_bar(survived_agegroup_freq)"
   ]
  },
  {
   "cell_type": "markdown",
   "metadata": {},
   "source": [
    "It can be note that child passengers are more likely to survive. About 53% that survived. **But is this likelyhood statiscally significant?** To answer this question it will be calculate **Chi Square** $({\\chi}^2)$ statistic value at .05 of significance.\n",
    "\n",
    "> ${\\chi}^2=\\sum \\frac{(Observed_{ij} \\, - \\, Expexted_{ij})^2}{Expexted_{ij}}$\n",
    "\n",
    "To calculate the ${\\chi}^2$, first it necessary calculate the expected values $(Expexted_{ij})$ from observed values $(Observed_{ij})$ for each **AgeGroup** $(i)$ in relation to **Survived** $(j)$.\n",
    "\n",
    "> $Expexted_{ij}=\\frac{Observed \\, AgeGroup \\, All_{i} \\, - \\, Observed \\, Survived \\, All_{j}}{All \\, All}$\n",
    "\n",
    "The table below shows the values required for the calculation."
   ]
  },
  {
   "cell_type": "code",
   "execution_count": 46,
   "metadata": {},
   "outputs": [
    {
     "name": "stdout",
     "output_type": "stream",
     "text": [
      "\n",
      "The frequency of non-survivor and survivor passangers among age groups:\n"
     ]
    },
    {
     "data": {
      "text/html": [
       "<div>\n",
       "<style>\n",
       "    .dataframe thead tr:only-child th {\n",
       "        text-align: right;\n",
       "    }\n",
       "\n",
       "    .dataframe thead th {\n",
       "        text-align: left;\n",
       "    }\n",
       "\n",
       "    .dataframe tbody tr th {\n",
       "        vertical-align: top;\n",
       "    }\n",
       "</style>\n",
       "<table border=\"1\" class=\"dataframe\">\n",
       "  <thead>\n",
       "    <tr style=\"text-align: right;\">\n",
       "      <th>AgeGroup</th>\n",
       "      <th>Child</th>\n",
       "      <th>Teen</th>\n",
       "      <th>Young</th>\n",
       "      <th>Adult</th>\n",
       "      <th>Elder</th>\n",
       "      <th>All</th>\n",
       "    </tr>\n",
       "    <tr>\n",
       "      <th>Survived</th>\n",
       "      <th></th>\n",
       "      <th></th>\n",
       "      <th></th>\n",
       "      <th></th>\n",
       "      <th></th>\n",
       "      <th></th>\n",
       "    </tr>\n",
       "  </thead>\n",
       "  <tbody>\n",
       "    <tr>\n",
       "      <th>Yes</th>\n",
       "      <td>33</td>\n",
       "      <td>30</td>\n",
       "      <td>96</td>\n",
       "      <td>101</td>\n",
       "      <td>22</td>\n",
       "      <td>282</td>\n",
       "    </tr>\n",
       "    <tr>\n",
       "      <th>No</th>\n",
       "      <td>29</td>\n",
       "      <td>39</td>\n",
       "      <td>169</td>\n",
       "      <td>130</td>\n",
       "      <td>42</td>\n",
       "      <td>409</td>\n",
       "    </tr>\n",
       "    <tr>\n",
       "      <th>All</th>\n",
       "      <td>62</td>\n",
       "      <td>69</td>\n",
       "      <td>265</td>\n",
       "      <td>231</td>\n",
       "      <td>64</td>\n",
       "      <td>691</td>\n",
       "    </tr>\n",
       "  </tbody>\n",
       "</table>\n",
       "</div>"
      ],
      "text/plain": [
       "AgeGroup  Child  Teen  Young  Adult  Elder  All\n",
       "Survived                                       \n",
       "Yes          33    30     96    101     22  282\n",
       "No           29    39    169    130     42  409\n",
       "All          62    69    265    231     64  691"
      ]
     },
     "execution_count": 46,
     "metadata": {},
     "output_type": "execute_result"
    }
   ],
   "source": [
    "print(\"\")\n",
    "print(\"The frequency of non-survivor and survivor passangers among age groups:\")\n",
    "# it shows margin 'All' in index and columns\n",
    "hlp.show_margin(survived_agegroup_df)"
   ]
  },
  {
   "cell_type": "markdown",
   "metadata": {},
   "source": [
    "And, the table below shows the results of the expected value calculation."
   ]
  },
  {
   "cell_type": "code",
   "execution_count": 47,
   "metadata": {},
   "outputs": [
    {
     "name": "stdout",
     "output_type": "stream",
     "text": [
      "\n",
      "Expected value for between 'AgeGroup' and 'Survived':\n"
     ]
    },
    {
     "data": {
      "text/html": [
       "<div>\n",
       "<style>\n",
       "    .dataframe thead tr:only-child th {\n",
       "        text-align: right;\n",
       "    }\n",
       "\n",
       "    .dataframe thead th {\n",
       "        text-align: left;\n",
       "    }\n",
       "\n",
       "    .dataframe tbody tr th {\n",
       "        vertical-align: top;\n",
       "    }\n",
       "</style>\n",
       "<table border=\"1\" class=\"dataframe\">\n",
       "  <thead>\n",
       "    <tr style=\"text-align: right;\">\n",
       "      <th>AgeGroup</th>\n",
       "      <th>Child</th>\n",
       "      <th>Teen</th>\n",
       "      <th>Young</th>\n",
       "      <th>Adult</th>\n",
       "      <th>Elder</th>\n",
       "    </tr>\n",
       "    <tr>\n",
       "      <th>Survived</th>\n",
       "      <th></th>\n",
       "      <th></th>\n",
       "      <th></th>\n",
       "      <th></th>\n",
       "      <th></th>\n",
       "    </tr>\n",
       "  </thead>\n",
       "  <tbody>\n",
       "    <tr>\n",
       "      <th>Yes</th>\n",
       "      <td>25.30246</td>\n",
       "      <td>28.15919</td>\n",
       "      <td>108.147612</td>\n",
       "      <td>94.272069</td>\n",
       "      <td>26.118669</td>\n",
       "    </tr>\n",
       "    <tr>\n",
       "      <th>No</th>\n",
       "      <td>36.69754</td>\n",
       "      <td>40.84081</td>\n",
       "      <td>156.852388</td>\n",
       "      <td>136.727931</td>\n",
       "      <td>37.881331</td>\n",
       "    </tr>\n",
       "  </tbody>\n",
       "</table>\n",
       "</div>"
      ],
      "text/plain": [
       "AgeGroup     Child      Teen       Young       Adult      Elder\n",
       "Survived                                                       \n",
       "Yes       25.30246  28.15919  108.147612   94.272069  26.118669\n",
       "No        36.69754  40.84081  156.852388  136.727931  37.881331"
      ]
     },
     "execution_count": 47,
     "metadata": {},
     "output_type": "execute_result"
    }
   ],
   "source": [
    "print(\"\")\n",
    "print(\"Expected value for between 'AgeGroup' and 'Survived':\")\n",
    "# it calculates the expected value\n",
    "hlp.expected_value(survived_agegroup_df)"
   ]
  },
  {
   "cell_type": "markdown",
   "metadata": {},
   "source": [
    "Now, it is calcutated the ${\\chi}^2$."
   ]
  },
  {
   "cell_type": "code",
   "execution_count": 48,
   "metadata": {},
   "outputs": [
    {
     "name": "stdout",
     "output_type": "stream",
     "text": [
      "\n",
      "Chi Square value for 'AgeGroup' and 'Survived':\n"
     ]
    },
    {
     "data": {
      "text/plain": [
       "8.3734188377751959"
      ]
     },
     "execution_count": 48,
     "metadata": {},
     "output_type": "execute_result"
    }
   ],
   "source": [
    "print(\"\")\n",
    "print(\"Chi Square value for 'AgeGroup' and 'Survived':\")\n",
    "# it calculates the chi square value (observed value, expected value)\n",
    "hlp.chi_square(survived_agegroup_df, hlp.expected_value(survived_agegroup_df))"
   ]
  },
  {
   "cell_type": "markdown",
   "metadata": {},
   "source": [
    "> ${\\chi}^2 \\approx 8.37$\n",
    "\n",
    "Calculating the dregees of fredom it gives 4. (The 'All' row/index and 'All' column are not considered on the calculation of degrees of freedom.)\n",
    "\n",
    "> df = (number of rows - 1) (number of columns - 1)\n",
    "\n",
    "> df = (2 - 1) (5 - 1)\n",
    "\n",
    "> df = 4\n",
    "\n",
    "Consulting the ([chi-square distribution table](http://passel.unl.edu/Image/Namuth-CovertDeana956176274/chi-sqaure%20distribution%20table.PNG)) it has critical value with a significance of .05 equal to 9.49. Thus, as the value of ${\\chi}^2$ is less than 9.49 then age (age group) is not statiscally significant at .05.\n",
    "\n",
    "## Conclusion\n",
    "\n"
   ]
  },
  {
   "cell_type": "markdown",
   "metadata": {},
   "source": [
    "Of all the analyzed variables (**Pclass**, **Sex**, **Embarked**, **Alone**, **Age** and **AgeGroup**) those that had statistical significance, in order of the size of the effect (Cramér's V) are:\n",
    "\n",
    "- **Sex**: = large effect (Cramér's V $\\approx$ 0.54, df = 1)\n",
    " - Female: 74% chance of survival\n",
    " - Male: 19% chance of survival\n",
    "\n",
    "\n",
    "- **Pclass**: = medium effect (Cramér's V $\\approx$ 0.33, df = 2)\n",
    " - Upper: 63% chance of survival\n",
    " - Middle: 47% chance of survival\n",
    " - Lower: 24% chance of survival\n",
    " \n",
    " \n",
    "- **Embarked** = small effect (Cramér's V $\\approx$ 0.17, df = 2)\n",
    " - Cherbourg: 55% chance of survival\n",
    " - Queenstown: 39% chance of survival\n",
    " - Southampton: 34% chance of survival\n",
    "\n",
    "\n",
    "- **Alone** = small effect (Cramér's V $\\approx$ 0.20, df = 1)\n",
    " - No: 50% chance of survival\n",
    " - Yes: 30% chance of survival\n",
    "\n",
    "\n",
    "**Thus, can be concluded that females and upper socio-economic class are the main factors that made these passengers of Titanic more likely to survive.**\n",
    "\n",
    "I was hoping that **Age**/**AgeGroup** would get into those results. Children had had 53% chance of survival, it more than travelling with family (50%). But statistically, that was not significant. Perhaps, if there were more data, the results would be different. The same to **Cabin** data. There could be some pattern of survivors of passengers who were not on the side of the impact of the ship with the iceberg. The lack of data compromises the analysis of these two variables."
   ]
  },
  {
   "cell_type": "code",
   "execution_count": null,
   "metadata": {
    "collapsed": true
   },
   "outputs": [],
   "source": []
  }
 ],
 "metadata": {
  "kernelspec": {
   "display_name": "Python [conda env:DAND]",
   "language": "python",
   "name": "conda-env-DAND-py"
  },
  "language_info": {
   "codemirror_mode": {
    "name": "ipython",
    "version": 2
   },
   "file_extension": ".py",
   "mimetype": "text/x-python",
   "name": "python",
   "nbconvert_exporter": "python",
   "pygments_lexer": "ipython2",
   "version": "2.7.13"
  }
 },
 "nbformat": 4,
 "nbformat_minor": 2
}
